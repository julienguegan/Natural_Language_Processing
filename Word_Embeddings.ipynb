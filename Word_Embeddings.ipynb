{
 "cells": [
  {
   "cell_type": "code",
   "execution_count": 1,
   "metadata": {
    "ExecuteTime": {
     "end_time": "2020-03-10T18:30:18.731609Z",
     "start_time": "2020-03-10T18:30:16.158707Z"
    }
   },
   "outputs": [],
   "source": [
    "# Contrôle de version\n",
    "import sys\n",
    "assert sys.version_info[0]==3\n",
    "assert sys.version_info[1] >= 5\n",
    "\n",
    "# Packages nécessaires\n",
    "import numpy as np\n",
    "import os\n",
    "import re\n",
    "import matplotlib.pyplot as plt\n",
    "# A la première utilisation de nltk, télécharger les données nécessaires\n",
    "import nltk\n",
    "#nltk.download('punkt')"
   ]
  },
  {
   "cell_type": "markdown",
   "metadata": {},
   "source": [
    "[//]: # (<span style=\"color:red\">TODO</span> pour signaler du contenu manquant)\n",
    "\n",
    "##  Word Embeddings : Représentations distribuées via l'hypothèse distributionelle\n",
    "\n",
    "**But**: On va chercher à obtenir des représentations denses (comme vecteurs de nombres réels) de mots (et éventuellement de phrases). Ces représentations ont vocation à être distribuées: ce sont des représentations non-locales. On représente un objet comme une combinaison de *features*, par opposition à l'attribution d'un symbole dédié: voir le travail fondateur d'entre autres, Geoffrey Hinton, sur le sujet: [Distributed Representations](https://web.stanford.edu/~jlmcc/papers/PDP/Chapter3.pdf).\n",
    "\n",
    "Le terme de représentation *distribuées* est très général, mais correspond à que l'on cherche à obtenir. L'enjeu est donc de pouvoir construire, automatiquement, de telles représentations.\n",
    "\n",
    "**Idée sous-jacente**: Elle est basée sur l'hypothèse distributionelle: les informations contextuelles suffisent à obtenir une représentation viable d'objets linguistiques.\n",
    " - *“For a large class of cases [...] the  meaning  of a word is  its  use in the  language.”* Wittgenstein (Philosophical Investigations, 43 - 1953)\n",
    " - *“You shall know a word by the company it keeps”*, Firth (\"A synopsis of linguistic theory 1930-1955.\" - 1957)\n",
    "\n",
    "Ainsi, on peut caractériser un mot par les mots qui l'accompagnent, via des comptes de co-occurences. Deux mots ayant un sens similaire auront une distribution contextuelle similaire et auront donc plus de chance d'apparaître dans des contextes similaires. Cette hypothèse peut servir de justification à l'application de statistiques à la sémantique (extraction d'information, analyse sémantique). Elle permet aussi une certaine forme de généralisation: on peut supposer que les informations que l'on a à propos d'un mot se généraliseront aux mots à la distribution similaire. \n",
    "\n",
    "**Motivation**: On cherche à obtenir des représentations distribuées pour pouvoir, de manière **efficace**:\n",
    "- Directement réaliser une analyse sémantique de surface.\n",
    "- S'en servir comme source d'informations pour d'autres modèles et applications liées au language, notamment pour l'analyse de sentiments. \n",
    "\n",
    "\n",
    "**Terminologie**: Attention à ne pas confondre l'idée de représentation *distribuée* et *distributionelle*. Le second indique en général (pour les mots) que la représentation a été obtenue strictement à partir de comptes de co-occurences, alors qu'on pourra utiliser des informations supplémentaires (labels de documents, tags de partie du discours, ...) pour construire des représentations distribuées. \n",
    "Les modèles qui permettent de construire ces représentations denses, sous forme de vecteurs, sont souvent appellés *vector spaces models*. On appelle aussi régulièrement ces représentations des *word embeddings*, car les mots sont embarqués (*embedded*) dans un espace vectoriel. En Français, on rencontre souvent le terme *plongements de mots* ou *plongements lexicaux*."
   ]
  },
  {
   "cell_type": "markdown",
   "metadata": {},
   "source": [
    "## Obtenir une représentation: comptes d'occurences et de co-occurences\n",
    "\n",
    "Selon le type de corpus dont on dispose, on pourra obtenir différents types d'informations distributionelles. Si l'on a accès à une collection de documents, on pourra ainsi choisir de compter le nombre d'occurence de chaque mot dans chacun des documents, pour obtenir une matrice $mots \\times documents$: c'est sur ce principe qu'est construit **Tf-Idf** (vu au TP précédent). On va maintenant s'intéresser à un cas plus général: on dispose d'une grande quantité de données sous forme de texte, et on cherche à obtenir des représentations de mots sous forme de vecteurs de taille réduite, sans avoir besoin d'un découpage en documents ou catégories. \n",
    "\n",
    "Supposons qu'on dispose d'un corpus contenant $T$ mots différents. On va construire une matrice $\\mathbf{M}$ de taille $T \\times T$ qui contiendra le nombre de co-occurences entre les mots. Il y aura différents facteurs à considérer lors de la construction de cette matrice: \n",
    "- Comment définir le 'contexte' d'un mot, qui permettra de dire que les termes qu'il contient co-occurent avec ce mot ? On pourra choisir d'utiliser différentes échelles: le document, la phrase, le groupe nominal, ou tout simplement une fenêtre de $k$ mots, selon les informations que l'on cherche à capturer.\n",
    "*Encore une fois, si par exemple notre corpus est divisé en $D$ documents, on pourra même s'intéresser aux liens distributionnels entre mots et documents: chacun de ces $D$ documents agira comme un \"contexte\", et on construit une matrice d'occurences $\\mathbf{M}$ de dimension $T \\times D$, où $\\mathbf{M}_{t,d}$ contient le nombre d'occurences du mot $t$ dans le document $d$.* \n",
    "- Comment quantifier l'importance des comptes ? Par exemple, on pourra donner un poids décroissant à une co-occurence selon la distance entre les deux mots concernés ($\\frac{1}{d+1}$ pour une séparation par $d$ mots).\n",
    "- Faut-il garder tous les mots qui apparaissent dans le corpus ? En général, non. On verra que pour les grands corpus, le nombre de mots différents $T$ est énorme. Deuxièmement, même si le nombre de mots est raisonnable, on ne possèdera que très peu d'information distributionelle sur les mots les plus rares, et la représentation obtenue sera à priori de mauvaise qualité. Il faudra se poser la question de comment filtrer ces mots, et de comment traiter les mots qu'on choisit de ne pas représenter.  "
   ]
  },
  {
   "cell_type": "markdown",
   "metadata": {},
   "source": [
    "#### Procédure\n",
    "\n",
    "Pour construire la matrice, on va dans un premier temps recueillir la liste des mots différents (ou le *vocabulaire* $V$) qui apparaissent dans le corpus sous forme de dictionaire {mots -> index}\n",
    "Puis, pour chaque terme $w$ du corpus,\n",
    "- On récupère l'index $i$ correspondant à l'aide de $V$\n",
    "- Pour chaque terme $w'$ du contexte de $w$, \n",
    "  + On récupère l'index $j$ correspondant à l'aide de $V$\n",
    "  + On incrémente $\\mathbf{M}_{i,j}$ par le poids correspondant, ou par $1$. \n",
    "  \n",
    "La procédure est très proche de celle qu'on a suivi au TP précédent, excepté qu'il faut maintenant compter les mots suivant leur apparition \n",
    "  \n",
    "#### Exemple\n",
    "\n",
    "On considère le corpus suivant: \n",
    "\n",
    "*I walked down down the boulevard. I walked down the avenue. I ran down the boulevard. I walk down the city. I walk down the the avenue.*\n",
    "\n",
    "On choisit de définir le contexte d'un mot comme la phrase à laquelle il appartient, et de ne pas utiliser de poids. \n",
    "On obtient la matrice suivante: \n",
    "\n",
    "|     *         | I | the | down | walked | boulevard | avenue | walk | ran | city |\n",
    "|---------------|---|-----|------|--------|-----------|--------|------|-----|------|\n",
    "| I             | 0 |      7 |    2 |   2 |         2 |      2 |   2 |    1 |    1 |\n",
    "| the           | 7 |      2 |    6 |   2 |         2 |      3 |   3 |    1 |    1 |\n",
    "| down          | 2 |      6 |    2 |   3 |         3 |      2 |   2 |    1 |    1 |\n",
    "| walked        | 2 |      2 |    3 |   0 |         1 |      1 |   0 |    0 |    0 |\n",
    "| boulevard     | 2 |      2 |    3 |   1 |         0 |      0 |   0 |    1 |    0 |\n",
    "| avenue        | 2 |      3 |    2 |   1 |         0 |      0 |   1 |    0 |    0 |\n",
    "| ran           | 2 |      3 |    2 |   0 |         0 |      1 |   0 |    0 |    1 |\n",
    "| walk          | 1 |      1 |    1 |   0 |         1 |      0 |   0 |    0 |    0 |\n",
    "| city          | 1 |      1 |    1 |   0 |         0 |      0 |   1 |    0 |    1 |"
   ]
  },
  {
   "cell_type": "code",
   "execution_count": 2,
   "metadata": {
    "ExecuteTime": {
     "end_time": "2020-03-10T18:30:18.742238Z",
     "start_time": "2020-03-10T18:30:18.734373Z"
    }
   },
   "outputs": [],
   "source": [
    "def clean_and_tokenize(text):\n",
    "    \"\"\"\n",
    "    Cleaning a document with:\n",
    "        - Lowercase        \n",
    "        - Removing numbers with regular expressions\n",
    "        - Removing punctuation with regular expressions\n",
    "        - Removing other artifacts\n",
    "    And separate the document into words by simply splitting at spaces\n",
    "    Params:\n",
    "        text (string): a sentence or a document\n",
    "    Returns:\n",
    "        tokens (list of strings): the list of tokens (word units) forming the document\n",
    "    \"\"\"        \n",
    "    # Lowercase\n",
    "    text = text.lower()\n",
    "    # Remove numbers\n",
    "    text = re.sub(r\"[0-9]+\", \"\", text)\n",
    "    # Remove punctuation\n",
    "    REMOVE_PUNCT = re.compile(\"[.;:!\\'?,\\\"()\\[\\]]\")\n",
    "    text = REMOVE_PUNCT.sub(\"\", text)\n",
    "    # Remove HTML artifacts specific to the corpus we're going to work with\n",
    "    REPLACE_HTML = re.compile(\"(<br\\s*/><br\\s*/>)|(\\-)|(\\/)\")\n",
    "    text = REPLACE_HTML.sub(\" \", text)\n",
    "    \n",
    "    tokens = text.split()        \n",
    "    return tokens"
   ]
  },
  {
   "cell_type": "markdown",
   "metadata": {},
   "source": [
    "### Obtenir un Vocabulaire:\n",
    "\n",
    "Cette fois, on va implémenter séparément une fonction retournant le vocabulaire. Il faudra ici pouvoir contrôler sa taille, que ce soit en indiquant un nombre maximum de mots, ou un nombre minimum d'occurences pour qu'on prenne en compte les mots. On ajoute, à la fin, un mot \"inconnu\" qui remplacera tous les mots qui n'apparaissent pas dans notre vocabulaire 'limité'. "
   ]
  },
  {
   "cell_type": "code",
   "execution_count": 3,
   "metadata": {
    "ExecuteTime": {
     "end_time": "2020-03-10T18:30:18.885739Z",
     "start_time": "2020-03-10T18:30:18.746090Z"
    }
   },
   "outputs": [],
   "source": [
    "def vocabulary(corpus, count_threshold=1, voc_threshold=0):\n",
    "    \"\"\"    \n",
    "    Function using word counts to build a vocabulary\n",
    "    Params:\n",
    "        corpus (list of list of strings): corpus of sentences\n",
    "        count_threshold (int): number of occurences necessary for a word to be included in the vocabulary\n",
    "        voc_threshold (int): maximum size of the vocabulary - 0 (default) indicates there is no max\n",
    "    Returns:\n",
    "        vocabulary (dictionary): keys: list of distinct words across the corpus\n",
    "                                 values: indexes corresponding to each word sorted by frequency \n",
    "        vocabulary_word_counts (dictionary): keys: list of distinct words across the corpus\n",
    "                                             values: word counts in the corpus\n",
    "    \"\"\"\n",
    "    \n",
    "    word_counts = {}\n",
    "    for text in corpus:\n",
    "        text_clean = clean_and_tokenize(text)\n",
    "        for word in text_clean:\n",
    "            if word in word_counts:\n",
    "                word_counts[word] += 1\n",
    "            else:\n",
    "                word_counts[word] = 1\n",
    "                \n",
    "    # tri le dictionnaire selon la valeur de count\n",
    "    word_counts_sorted = {word: count for word, count in sorted(word_counts.items(), key=lambda item: item[1], reverse=True)} \n",
    "                \n",
    "    filtered_word_counts = {}     \n",
    "    for word, count in word_counts_sorted.items():\n",
    "        if count >= count_threshold:\n",
    "            if voc_threshold == 0:\n",
    "                filtered_word_counts[word] = count\n",
    "            else:\n",
    "                if len(filtered_word_counts) <= voc_threshold:\n",
    "                     filtered_word_counts[word] = count\n",
    "\n",
    "    \n",
    "    vocabulary = dict([ (word,i) for i,word in enumerate(filtered_word_counts) ]) # create dictionnary \"word\":counts\n",
    "    vocabulary['UNK'] = len(vocabulary)\n",
    "    vocabulary_word_counts = filtered_word_counts\n",
    "    vocabulary_word_counts['UNK'] = 0\n",
    "    \n",
    "    return vocabulary, vocabulary_word_counts"
   ]
  },
  {
   "cell_type": "code",
   "execution_count": 4,
   "metadata": {
    "ExecuteTime": {
     "end_time": "2020-03-10T18:30:19.132229Z",
     "start_time": "2020-03-10T18:30:18.887608Z"
    }
   },
   "outputs": [
    {
     "name": "stdout",
     "output_type": "stream",
     "text": [
      "{'down': 0, 'the': 1, 'i': 2, 'UNK': 3}\n",
      "{'down': 6, 'the': 6, 'i': 5, 'UNK': 0}\n",
      "{'down': 0, 'the': 1, 'i': 2, 'walked': 3, 'boulevard': 4, 'avenue': 5, 'walk': 6, 'ran': 7, 'city': 8, 'UNK': 9}\n",
      "{'down': 6, 'the': 6, 'i': 5, 'walked': 2, 'boulevard': 2, 'avenue': 2, 'walk': 2, 'ran': 1, 'city': 1, 'UNK': 0}\n"
     ]
    }
   ],
   "source": [
    "# Example for testing:\n",
    "\n",
    "corpus = ['I walked down down the boulevard',\n",
    "          'I walked down the avenue',\n",
    "          'I ran down the boulevard',\n",
    "          'I walk down the city',\n",
    "          'I walk down the the avenue']\n",
    "\n",
    "voc, counts = vocabulary(corpus, count_threshold = 3)\n",
    "print(voc)\n",
    "print(counts)\n",
    "\n",
    "# We expect something like this:\n",
    "#  {'down': 0, 'the': 1, 'i': 2, 'UNK': 3}\n",
    "#  {'down': 6, 'the': 6, 'i': 5, 'UNK': 0}\n",
    "\n",
    "voc, counts = vocabulary(corpus)\n",
    "print(voc)\n",
    "print(counts)\n",
    "\n",
    "# We expect something like this:\n",
    "#  {'down': 0, 'the': 1, 'i': 2, 'walked': 3, 'boulevard': 4, 'avenue': 5, 'walk': 6, 'ran': 7, 'city': 8, 'UNK': 9}\n",
    "#  {'down': 6, 'the': 6, 'i': 5, 'walked': 2, 'boulevard': 2, 'avenue': 2, 'walk': 2, 'ran': 1, 'city': 1, 'UNK': 0}\n"
   ]
  },
  {
   "cell_type": "markdown",
   "metadata": {},
   "source": [
    "### Obtenir les co-occurences:\n",
    "\n",
    "La fonction prend en entrée le corpus (une liste de strings, correspondant aux documents, ou phrases) et un vocabulaire, ainsi que la taille de la fenêtre de contexte. On pourra aussi implémenter la solution la plus simple - que le contexte d'un mot soit le reste du document duquel il provient. \n",
    "Enfin, on pourra implémenter la possibilité de faire décroitre linéairement l'importance d'un mot du contexte à mesure qu'on s'éloigne du mot d'origine. "
   ]
  },
  {
   "cell_type": "code",
   "execution_count": 5,
   "metadata": {
    "ExecuteTime": {
     "end_time": "2020-03-10T18:30:19.444903Z",
     "start_time": "2020-03-10T18:30:19.135988Z"
    }
   },
   "outputs": [],
   "source": [
    "def co_occurence_matrix(corpus, vocabulary, window=0, distance_weighting=False):\n",
    "    \"\"\"\n",
    "    Params:\n",
    "        corpus (list of list of strings): corpus of sentences\n",
    "        vocabulary (dictionary): words to use in the matrix\n",
    "        window (int): size of the context window; when 0, the context is the whole sentence\n",
    "        distance_weighting (bool): indicates if we use a weight depending on the distance between words for co-oc counts\n",
    "    Returns:\n",
    "        matrix (array of size (len(vocabulary), len(vocabulary))): the co-oc matrix, using the same ordering as the vocabulary given in input    \n",
    "    \"\"\" \n",
    "    l = len(vocabulary)\n",
    "    M = np.zeros((l,l))\n",
    "    for sent in corpus:\n",
    "        # Obtenir la phrase:\n",
    "        sent = clean_and_tokenize(sent)\n",
    "        # Obtenir les indexs de la phrase grace au vocabulaire: \n",
    "        sent_idx = [vocabulary[word] if word in vocabulary else vocabulary['UNK'] for word in sent] \n",
    "        # Parcourir les indexs de la phrase et ajouter 1 / dist(i,j) à M[i,j] si les mots d'index i et j apparaissent dans la même fenêtre. \n",
    "        for i, idx_i in enumerate(sent_idx):\n",
    "            # On vérifie que le mot est reconnu par le vocabulaire:\n",
    "            if idx_i is not None: # | idx_i > -1 :                \n",
    "                # Si on considère un contexte limité:\n",
    "                if window > 0:\n",
    "                    # On crée une liste qui contient les indexs de la fenêtre à gauche de l'index courant 'idx_i'\n",
    "                    l_ctx_idx = sent_idx[max(0,i - window):i]\n",
    "                # Si on considère que le contexte est la phrase entière:\n",
    "                else:\n",
    "                    #l_ctx_idx = np.delete(sent_idx,i)\n",
    "                    l_ctx_idx = sent_idx[0:i]\n",
    "                # On parcourt cette liste et on update M[i,j]:    \n",
    "                for j, idx_j in enumerate(l_ctx_idx):\n",
    "                    # ... en s'assurant que le mot correspondant à 'idx_j' est reconnu par le vocabulaire\n",
    "                    if idx_j is not None: # | idx_j > -1:\n",
    "                        # Calcul du poids:\n",
    "                        if distance_weighting:\n",
    "                            dist = i-j\n",
    "                            weight = 1.0/(dist+1)\n",
    "                        else:\n",
    "                            weight = 1.0\n",
    "                        M[idx_i, idx_j] += weight * 1.0\n",
    "                        M[idx_j, idx_i] += weight * 1.0\n",
    "\n",
    "    return M  "
   ]
  },
  {
   "cell_type": "markdown",
   "metadata": {
    "ExecuteTime": {
     "end_time": "2020-03-02T16:57:58.554260Z",
     "start_time": "2020-03-02T16:57:47.955Z"
    }
   },
   "source": [
    "|     *         | I | the | down | walked | boulevard | avenue | walk | ran | city |\n",
    "|---------------|---|-----|------|--------|-----------|--------|------|-----|------|\n",
    "| I             | 0 |      7 |    2 |   2 |         2 |      2 |   2 |    1 |    1 |\n",
    "| the           | 7 |      2 |    6 |   2 |         2 |      3 |   3 |    1 |    1 |\n",
    "| down          | 2 |      6 |    2 |   3 |         3 |      2 |   2 |    1 |    1 |\n",
    "| walked        | 2 |      2 |    3 |   0 |         1 |      1 |   0 |    0 |    0 |\n",
    "| boulevard     | 2 |      2 |    3 |   1 |         0 |      0 |   0 |    1 |    0 |\n",
    "| avenue        | 2 |      3 |    2 |   1 |         0 |      0 |   1 |    0 |    0 |\n",
    "| ran           | 2 |      3 |    2 |   0 |         0 |      1 |   0 |    0 |    1 |\n",
    "| walk          | 1 |      1 |    1 |   0 |         1 |      0 |   0 |    0 |    0 |\n",
    "| city          | 1 |      1 |    1 |   0 |         0 |      0 |   1 |    0 |    1 |\n",
    "\n",
    "{'down': 6, 'the': 6, 'i': 5, 'walked': 2, 'boulevard': 2, 'avenue': 2, 'walk': 2, 'ran': 1, 'city': 1, 'UNK': 0}"
   ]
  },
  {
   "cell_type": "code",
   "execution_count": 6,
   "metadata": {
    "ExecuteTime": {
     "end_time": "2020-03-10T18:30:19.890938Z",
     "start_time": "2020-03-10T18:30:19.465402Z"
    }
   },
   "outputs": [
    {
     "name": "stdout",
     "output_type": "stream",
     "text": [
      "\n",
      "co-occurence matrix:\n",
      "\n",
      "[[2 7 6 3 3 2 2 1 1 0]\n",
      " [7 2 6 2 2 3 3 1 1 0]\n",
      " [6 6 0 2 2 2 2 1 1 0]\n",
      " [3 2 2 0 1 1 0 0 0 0]\n",
      " [3 2 2 1 0 0 0 1 0 0]\n",
      " [2 3 2 1 0 0 1 0 0 0]\n",
      " [2 3 2 0 0 1 0 0 1 0]\n",
      " [1 1 1 0 1 0 0 0 0 0]\n",
      " [1 1 1 0 0 0 1 0 0 0]\n",
      " [0 0 0 0 0 0 0 0 0 0]]\n"
     ]
    }
   ],
   "source": [
    "print('\\nco-occurence matrix:\\n')\n",
    "print(co_occurence_matrix(corpus, voc, 0, False).astype(int))"
   ]
  },
  {
   "cell_type": "markdown",
   "metadata": {},
   "source": [
    "#### Application à un vrai jeu de données\n",
    "\n",
    "On va chercher à obtenir ces comptes pour les données **imdb**:"
   ]
  },
  {
   "cell_type": "code",
   "execution_count": 7,
   "metadata": {
    "ExecuteTime": {
     "end_time": "2020-03-10T18:30:20.416999Z",
     "start_time": "2020-03-10T18:30:19.905575Z"
    }
   },
   "outputs": [
    {
     "name": "stdout",
     "output_type": "stream",
     "text": [
      "2000 documents\n"
     ]
    }
   ],
   "source": [
    "from glob import glob\n",
    "filenames_neg = sorted(glob(os.path.join('.', 'data', 'imdb1', 'neg', '*.txt')))\n",
    "filenames_pos = sorted(glob(os.path.join('.', 'data', 'imdb1', 'pos', '*.txt')))\n",
    "\n",
    "texts_neg = [open(f, encoding=\"utf8\").read() for f in filenames_neg]\n",
    "texts_pos = [open(f, encoding=\"utf8\").read() for f in filenames_pos]\n",
    "texts = texts_neg + texts_pos\n",
    "\n",
    "# The first half of the elements of the list are string of negative reviews, and the second half positive ones\n",
    "# We create the labels, as an array of [1,len(texts)], filled with 1, and change the first half to 0\n",
    "y = np.ones(len(texts), dtype=np.int)\n",
    "y[:len(texts_neg)] = 0.\n",
    "\n",
    "print(\"%d documents\" % len(texts))"
   ]
  },
  {
   "cell_type": "markdown",
   "metadata": {},
   "source": [
    "#### Etude rapide des données\n",
    "\n",
    "On voudrait ici, avant de procéder, avoir une idée de ce que contiennent ces critiques de films. On va donc obtenir le vocabulaire (entier) et représenter les fréquences des mots, dans l'ordre (attention, il faudra utiliser une échelle logarithmique): on devrait retrouver la loi de Zipf. Cela nous permettra d'avoir une idée de la taille du vocabulaire qu'on pourra choisir : il s'agit de réaliser un compromis entre les ressources nécessaires (taille des objets en mémoire) et quantité d'informations qu'on peut en tirer (les mots rares peuvent apporter beaucoup d'informations, mais il est difficile d'en apprendre de bonnes représentations,car ils sont rares !)  "
   ]
  },
  {
   "cell_type": "code",
   "execution_count": 8,
   "metadata": {
    "ExecuteTime": {
     "end_time": "2020-03-10T18:30:34.060519Z",
     "start_time": "2020-03-10T18:30:20.418952Z"
    }
   },
   "outputs": [
    {
     "name": "stdout",
     "output_type": "stream",
     "text": [
      "Vocabulary size: 41682\n",
      "Part of the corpus by taking the 10000 most frequent words : 1228199 / 1305272 = 94 %\n",
      "Part of the corpus by taking the 5000 most frequent words  : 1158320 / 1305272 = 88 %\n"
     ]
    },
    {
     "data": {
      "image/png": "[encoded data removed]",
      "text/plain": [
       "<Figure size 1080x360 with 1 Axes>"
      ]
     },
     "metadata": {
      "needs_background": "light"
     },
     "output_type": "display_data"
    }
   ],
   "source": [
    "# We would like to display the curve of word frequencies given their rank (index) in the vocabulary\n",
    "vocab, word_counts = vocabulary(texts)\n",
    "N_total = sum(list(word_counts.values())) # total number of word in corpus\n",
    "frequencies = np.array(list(word_counts.values()))/N_total # word frequencies in [0,1]\n",
    "\n",
    "# We can for example use the function plt.scatter()\n",
    "plt.figure(figsize=(15,5))\n",
    "plt.title('Word counts vs rank',fontsize=20)\n",
    "plt.plot(list(vocab.values()),frequencies,label='corpus frequencies') # word_counts est trié par ordre décroissant\n",
    "plt.yscale('log')\n",
    "\n",
    "# We would like to know how much of the data is represented by the 'k' most frequent words\n",
    "print('Vocabulary size: %i' % len(vocab))\n",
    "\n",
    "cpt_10000 = 0\n",
    "cpt_5000 = 0\n",
    "for i in range(10000):\n",
    "    for word, index in vocab.items():  \n",
    "        if index == i:\n",
    "            w = word\n",
    "            break\n",
    "    cpt_10000 = cpt_10000 + word_counts[w]\n",
    "    if i < 5000:\n",
    "        cpt_5000 = cpt_5000 + word_counts[w]\n",
    "        \n",
    "part = int(100*cpt_10000/N_total) \n",
    "print('Part of the corpus by taking the 10000 most frequent words :', cpt_10000, '/', N_total, '=', part,'%')\n",
    "plt.plot([10000,10000],[0,0.1],'--',color='grey')\n",
    "plt.text(11000,1e-6,'x='+str(10000),c='grey',fontsize=10)\n",
    "plt.text(11000,0.05,str(part)+'% of the corpus',c='grey',fontsize=15)\n",
    "\n",
    "part = int(100*cpt_5000/N_total) \n",
    "print('Part of the corpus by taking the 5000 most frequent words  :', cpt_5000, '/', N_total, '=', part,'%')\n",
    "plt.plot([5000,5000],[0,0.1],'--',color='grey')\n",
    "plt.text(5500,1e-6,'x='+str(5000),c='grey',fontsize=10)\n",
    "plt.text(5500,0.01,str(part)+'% of the corpus',c='grey',fontsize=15)\n",
    "\n",
    "# loi de zipf\n",
    "z = []\n",
    "L = len(vocab)\n",
    "s = 1.07\n",
    "S = sum(1/(np.arange(1,L,dtype=np.int64))**s)\n",
    "for k in np.arange(1,L)+1:\n",
    "    z.append((1/k**s)/S)\n",
    "plt.plot(z,'r',alpha=0.4,linewidth=5,label='loi de Zipf')\n",
    "\n",
    "plt.legend()\n",
    "plt.show()"
   ]
  },
  {
   "cell_type": "markdown",
   "metadata": {},
   "source": [
    "<font color=\"blue\"> \n",
    "<u>__Résultat de l'analyse__</u> : on peut se contenter d'un vocabulaire de 10000, voire 5000 mots et toujours capter 90% du corpus. C'est important, car cela va déterminer la taille des objets que l'on va manipuler.\n",
    "    \n",
    "/!\\ Les mots rares sont ceux porteur de sens ?\n",
    "</font>\n",
    "\n",
    "On va maintenant recréer la matrice de co-occurence avec différents paramètres. Cela peut-être long: si cela pose problème, travaillez avec un vocabulaire plus réduit."
   ]
  },
  {
   "cell_type": "code",
   "execution_count": 9,
   "metadata": {
    "ExecuteTime": {
     "end_time": "2020-03-10T18:31:41.082283Z",
     "start_time": "2020-03-10T18:30:34.062469Z"
    }
   },
   "outputs": [
    {
     "name": "stdout",
     "output_type": "stream",
     "text": [
      "(5002, 5002)\n",
      "(5002, 5002)\n"
     ]
    }
   ],
   "source": [
    "vocab_5k, word_counts_5k = vocabulary(texts, 0, 5000)\n",
    "M5dist = co_occurence_matrix(texts, vocab_5k, window=5, distance_weighting=True)\n",
    "M20    = co_occurence_matrix(texts, vocab_5k, window=20, distance_weighting=False)\n",
    "print(M5dist.shape)\n",
    "print(M20.shape)"
   ]
  },
  {
   "cell_type": "code",
   "execution_count": 10,
   "metadata": {
    "ExecuteTime": {
     "end_time": "2020-03-10T18:32:46.015686Z",
     "start_time": "2020-03-10T18:31:41.084121Z"
    }
   },
   "outputs": [
    {
     "name": "stdout",
     "output_type": "stream",
     "text": [
      "(5002, 5002)\n",
      "(5002, 5002)\n"
     ]
    }
   ],
   "source": [
    "vocab_10k, word_counts_10k = vocabulary(texts, 0, 10000)\n",
    "M5dist_20 = co_occurence_matrix(texts, vocab_5k, window=5, distance_weighting=True)\n",
    "M20_20    = co_occurence_matrix(texts, vocab_5k, window=20, distance_weighting=False)\n",
    "print(M5dist_20.shape)\n",
    "print(M20_20.shape)"
   ]
  },
  {
   "cell_type": "code",
   "execution_count": 11,
   "metadata": {
    "ExecuteTime": {
     "end_time": "2020-03-10T18:32:46.029317Z",
     "start_time": "2020-03-10T18:32:46.017689Z"
    }
   },
   "outputs": [
    {
     "name": "stdout",
     "output_type": "stream",
     "text": [
      "835\n",
      "[1.96868539 3.21092962 0.50866539 ... 0.         0.         1.79794703]\n",
      "[ 820.  452.  322. ...    0.    0. 1304.]\n"
     ]
    }
   ],
   "source": [
    "print(vocab_5k['cinema'])\n",
    "print(M5dist[429])\n",
    "print(M20[429])"
   ]
  },
  {
   "cell_type": "markdown",
   "metadata": {},
   "source": [
    "### Comparaison de vecteurs\n",
    "\n",
    "On peut se servir de ces vecteurs de très grande taille pour une analyse sémantique très basique: par exemple, en cherchant les plus proches voisins d'un mot. Cependant, il faudra faire attention aux distances qu'on utilise, liées à certaines métriques (Euclidiennes, Cosine) ou éventuellement d'autres liées à l'appartenance aux ensembles (Matching, Jaccard). La normalisation des vecteurs peut aussi jouer un rôle. Dans tous les cas, il faut bien faire attention à ne pas sur-interprêter ce type de résultats. "
   ]
  },
  {
   "cell_type": "code",
   "execution_count": 12,
   "metadata": {
    "ExecuteTime": {
     "end_time": "2020-03-10T18:32:46.235406Z",
     "start_time": "2020-03-10T18:32:46.034373Z"
    }
   },
   "outputs": [],
   "source": [
    "def euclidean(u, v):\n",
    "    return np.linalg.norm(u-v)\n",
    "\n",
    "def length_norm(u):\n",
    "    return u / np.sqrt(u.dot(u)) if np.any(u) != 0 else 0. * u\n",
    "\n",
    "def cosine(u, v):\n",
    "    return 1.0 - length_norm(u).dot(length_norm(v))\n",
    "\n",
    "from sklearn.neighbors import NearestNeighbors\n",
    "\n",
    "def get_neighbors(distance, voc, co_oc, mot, k=10):\n",
    "    inv_voc = {id: w for w, id in voc.items()}\n",
    "    neigh = NearestNeighbors(k, algorithm='brute', metric=distance)\n",
    "    neigh.fit(co_oc) \n",
    "    dist, ind = neigh.kneighbors([co_oc[voc[mot]]])\n",
    "    neighbors = []\n",
    "    for s in ind:\n",
    "        for i in s[1:]:\n",
    "            neighbors.append(inv_voc[i])\n",
    "    return neighbors\n",
    "   "
   ]
  },
  {
   "cell_type": "markdown",
   "metadata": {},
   "source": [
    "<font color=\"blue\"> \n",
    "*Note que ici on utilise la distance cosine (qui est positive) et non la cosine similarity. On peut avoir des mots avec des cosine similarity de signe différents avec la même cosine distance et donc qui se retrouvent considérés comme voisins sémantiques.*\n",
    "</font>"
   ]
  },
  {
   "cell_type": "code",
   "execution_count": 13,
   "metadata": {
    "ExecuteTime": {
     "end_time": "2020-03-10T18:32:49.309656Z",
     "start_time": "2020-03-10T18:32:46.242086Z"
    }
   },
   "outputs": [
    {
     "name": "stdout",
     "output_type": "stream",
     "text": [
      "VOCABULAIRE 5000 - voisin de 'good'\n",
      "    [5 mots] - [pondéré]: \n",
      "         distance 'euclidean': ['bad', 'plot', 'very', 'just', 'comedy', 'little', 'man', 'life', 'big']\n",
      "         distance 'cosine'   : ['bad', 'very', 'great', 'plot', 'funny', 'its', 'not', 'movie', 'little']\n",
      "    [20 mots] - [non pondéré] : \n",
      "         distance 'euclidean': ['story', 'can', 'also', 'much', 'will', 'time', 'character', 'we', 'films']\n",
      "         distance 'cosine'   : ['bad', 'very', 'great', 'not', 'really', 'quite', 'it', 'fun', 'completely']\n",
      "\n",
      "VOCABULAIRE 10000 - voisin de 'good'\n",
      "    [5 mots] - [pondéré]: \n",
      "         distance 'euclidean': ['bad', 'plot', 'very', 'just', 'comedy', 'little', 'man', 'life', 'big']\n",
      "         distance 'cosine'   : ['bad', 'very', 'great', 'plot', 'funny', 'its', 'not', 'movie', 'little']\n",
      "    [20 mots] - [non pondéré] : \n",
      "         distance 'euclidean': ['story', 'can', 'also', 'much', 'will', 'time', 'character', 'we', 'films']\n",
      "         distance 'cosine'   : ['bad', 'very', 'great', 'not', 'really', 'quite', 'it', 'fun', 'completely']\n"
     ]
    }
   ],
   "source": [
    "print('VOCABULAIRE 5000 - voisin de \\'good\\'')\n",
    "\n",
    "print('    [5 mots] - [pondéré]: ')\n",
    "print(\"         distance \\'euclidean\\':\", get_neighbors(euclidean, vocab_5k, M5dist, 'good'))\n",
    "print(\"         distance \\'cosine\\'   :\", get_neighbors(cosine, vocab_5k, M5dist, 'good'))\n",
    "print('    [20 mots] - [non pondéré] : ')\n",
    "print(\"         distance \\'euclidean\\':\", get_neighbors(euclidean, vocab_5k, M20, 'good'))\n",
    "print(\"         distance \\'cosine\\'   :\", get_neighbors(cosine, vocab_5k, M20, 'good'))\n",
    "\n",
    "print('\\nVOCABULAIRE 10000 - voisin de \\'good\\'')\n",
    "\n",
    "print('    [5 mots] - [pondéré]: ')\n",
    "print(\"         distance \\'euclidean\\':\", get_neighbors(euclidean, vocab_10k, M5dist_20, 'good'))\n",
    "print(\"         distance \\'cosine\\'   :\", get_neighbors(cosine, vocab_10k, M5dist_20, 'good'))\n",
    "print('    [20 mots] - [non pondéré] : ')\n",
    "print(\"         distance \\'euclidean\\':\", get_neighbors(euclidean, vocab_10k, M20_20, 'good'))\n",
    "print(\"         distance \\'cosine\\'   :\", get_neighbors(cosine, vocab_10k, M20_20, 'good'))"
   ]
  },
  {
   "cell_type": "markdown",
   "metadata": {},
   "source": [
    "<font color=\"blue\"> \n",
    "On remarque que dans les 2 types de contextes la distance cosine est semble plus pertinente pour comparer la sémantique des mots que la distance euclidienne, en effet la distance cosine est utile dans les espaces positifs de grandes dimensions et prend en compte l'orientation des vecteurs plus que leur magnitude (contrairement à la distance euclidienne).\n",
    "Malgré tout ce n'est pas parfait puisque même avec la distance cosine une partie des mots voisins n'est pas proche sémantiquement du mot good.\n",
    "    \n",
    "Utiliser 10000 mots ne semble pas apporter de meilleurs résultats au modèle\n",
    "</font>"
   ]
  },
  {
   "cell_type": "markdown",
   "metadata": {},
   "source": [
    "### Méthodes de pondération des matrices\n",
    "\n",
    "**Motivation**: On ne se base pour l'instant que sur la fréquence (ou au mieux, une pondération de la fréquence) pour construire ces représentations. Comme on peut s'en douter, _la fréquence seule n'est pas suffisante pour capturer des informations sémantiques intéressantes_. On peut l'illustrer avec le phénomène des mots très fréquents qui apparaissent dans de nombreux contextes très différents, ou de mots qui apparaissent très souvent ensemble sans avoir nécessairement de lien sémantique."
   ]
  },
  {
   "cell_type": "markdown",
   "metadata": {},
   "source": [
    "**Normalisation**: Très simple; il s'agit d'_annuler l'influence de la magnitude des comptes sur la représentation._\n",
    "\n",
    "$$\\mathbf{m_{normalized}} = \\left[ \n",
    "   \\frac{m_{1}}{\\sum_{i=1}^{n}m_{i}}, \n",
    "   \\frac{m_{2}}{\\sum_{i=1}^{n}m_{i}}, \n",
    "   \\ldots\n",
    "   \\frac{m_{n}}{\\sum_{i=1}^{n}m_{i}}, \n",
    "\\right]$$\n",
    " \n",
    "**Pointwise Mutual Information**: Il s'agit d'_évaluer à quel point la co-occurence des deux termes est inattendue_. En effet, cette mesure correspond au ratio de la probabilité jointe des deux mots et du produit de leur probabilités individuelles:\n",
    "$$\n",
    "\\text{PMI}(x,y) = \\log \\left( \\frac{P(x,y)}{P(x)P(y)} \\right)\n",
    "$$\n",
    "La probabilité jointe des deux mots correspond au nombre de fois ou on les observe ensemble, divisé par le nombre total de co-occurences du corpus: \n",
    "$$ P(\\mathbf{M},w_{1},w_{2}) = \\frac{M_{w_{1},w_{2}}}{\\sum_{i=1}^{n}\\sum_{j=1}^{n} M_{i,j}} $$\n",
    "La probabilité individuelle d'un mot correspond simplement à sa fréquence, que l'on peut calculer en comptant toutes les co-occurences ou ce mot apparaît:\n",
    "$$ P(\\mathbf{M},w) = \\frac{\\sum_{j=1}^{m} M_{w,j}}{\\sum_{i=1}^{n}\\sum_{j=1}^{n} M_{i,j}} $$\n",
    "Ainsi,\n",
    "$$ \n",
    "\\text{PMI}(\\mathbf{M},w_{1},w_{2}) = \\log  \\frac{M_{w_{1},w_{2}} \\times \\left( \\sum_{i=1}^{n}\\sum_{j=1}^{n} M_{i,j} \\right)}{\\left( \\sum_{j=1}^{n} M_{w_{1},j} \\right) \\times \\left( \\sum_{i=1}^{n}M_{i,w_{2}} \\right)} \n",
    "$$\n",
    "On calcule ainsi le décalage entre l'observation que l'on a fait dans notre corpus et la fréquence d'apparition de ces termes si on les considère indépendant - c'est à dire qu'on suppose que _leur co-occurence est une coïncidence_.\n",
    "\n",
    "Le principal problème avec cette mesure est qu'_elle n'est pas adaptée au cas où l'on observe aucune co-occurence_. Puisque la PMI est censée renvoyer une quantité positive si l'on observe plus de co-occurences que prévu, et négative si l'on en observe moins, on ne peut pas choisir de remplacer $\\log(0)$ par $0$. Une solution couramment utilisée est d'utiliser la **Positive PMI**, qui fixe toutes les valeurs négatives à $0$.\n",
    " \n",
    " $$\\text{PPMI}(\\mathbf{M},w_{1},w_{2}) = \n",
    " \\begin{cases}\n",
    " \\text{PMI}(\\mathbf{M},w_{1},w_{2}) & \\textrm{if } \\text{PMI}(\\mathbf{M},w_{1},w_{2}) > 0 \\\\\n",
    " 0 & \\textrm{otherwise}\n",
    " \\end{cases}$$"
   ]
  },
  {
   "cell_type": "code",
   "execution_count": 14,
   "metadata": {
    "ExecuteTime": {
     "end_time": "2020-03-10T18:32:49.320494Z",
     "start_time": "2020-03-10T18:32:49.311609Z"
    }
   },
   "outputs": [],
   "source": [
    "def pmi(co_oc, positive=True):\n",
    "    sum_vec = co_oc.sum(axis=0)\n",
    "    sum_tot = sum_vec.sum()\n",
    "    with np.errstate(divide='ignore'):\n",
    "        pmi = np.log((co_oc * sum_tot) / (np.outer(sum_vec, sum_vec)))                   \n",
    "    pmi[np.isinf(pmi)] = 0.0  # log(0) = 0\n",
    "    if positive:\n",
    "        pmi[pmi < 0] = 0.0\n",
    "    return pmi"
   ]
  },
  {
   "cell_type": "code",
   "execution_count": 15,
   "metadata": {
    "ExecuteTime": {
     "end_time": "2020-03-10T18:32:55.860576Z",
     "start_time": "2020-03-10T18:32:49.322344Z"
    }
   },
   "outputs": [],
   "source": [
    "PPMI5dist  = pmi(M5dist)\n",
    "PPMI20     = pmi(M20)"
   ]
  },
  {
   "cell_type": "code",
   "execution_count": 16,
   "metadata": {
    "ExecuteTime": {
     "end_time": "2020-03-10T18:32:57.788177Z",
     "start_time": "2020-03-10T18:32:55.862694Z"
    }
   },
   "outputs": [
    {
     "name": "stdout",
     "output_type": "stream",
     "text": [
      "________________________ PPMI ________________________\n",
      "\n",
      "VOCABULAIRE 5000 - voisin de 'good'\n",
      "\n",
      "    [5 mots] - [pondéré]: \n",
      "         distance 'euclidean': ['portions', 'text', 'UNK', 'the', 'redman', 'warned', 'clint', 'potent', 'postman']\n",
      "         distance 'cosine'   : ['bad', 'but', 'for', 'its', 'and', 'comedy', 'it', 'very', 'funny']\n",
      "\n",
      "    [20 mots] - [non pondéré] : \n",
      "         distance 'euclidean': ['but', 'is', 'and', 'a', 'it', 'this', 'the', 'that', 'in']\n",
      "         distance 'cosine'   : ['but', 'pretty', 'actors', 'acting', 'bad', 'better', 'very', 'movie', 'performances']\n"
     ]
    }
   ],
   "source": [
    "print(\"________________________ PPMI ________________________\\n\")  \n",
    "\n",
    "print('VOCABULAIRE 5000 - voisin de \\'good\\'\\n')\n",
    "\n",
    "print('    [5 mots] - [pondéré]: ')\n",
    "print(\"         distance \\'euclidean\\':\", get_neighbors(euclidean, vocab_5k, PPMI5dist, 'good'))\n",
    "print(\"         distance \\'cosine\\'   :\", get_neighbors(cosine, vocab_5k, PPMI5dist, 'good'))\n",
    "print(\"\")\n",
    "print('    [20 mots] - [non pondéré] : ')\n",
    "print(\"         distance \\'euclidean\\':\", get_neighbors(euclidean, vocab_5k, PPMI20, 'good'))\n",
    "print(\"         distance \\'cosine\\'   :\", get_neighbors(cosine, vocab_5k, PPMI20, 'good'))"
   ]
  },
  {
   "cell_type": "markdown",
   "metadata": {},
   "source": [
    "<font color=\"blue\"> \n",
    "En regardant surtout la distance cosine, les résultats en appliquant la PMI pour le mot 'good' ne semble pas meilleurs que ceux avec la simple matrice de co-occurence.\n",
    "\n",
    "Cependant, les résultats avec un contexte de 20 mots (sans poids) ne sont pas non plus dénués de sens puisque que pour un corpus de texte qui est tiré de critique de films, on imagine facilement que le mot 'good' soit souvent associé avec les mots 'pretty', 'actors', 'acting', 'better', 'very', 'movie', 'performances' ou encore 'but' (pour des critiques, il est logique de trouver des phrases comme 'he is good but ...')\n",
    "\n",
    "</font>"
   ]
  },
  {
   "cell_type": "markdown",
   "metadata": {},
   "source": [
    "**TF-IDF**: Comme on l'a déjà vu, il s'agit du produit de la fréquence du terme (TF) et de sa fréquence inverse dans les documents (IDF). \n",
    "Cette méthode est habituellement utilisée pour extraire l'importance d'un terme $i$ dans un document $j$ relativement au reste du corpus, à partir d'une matrice $termes \\times documents$. Ainsi, pour une matrice $\\mathbf{X}$ de $n$ termes et $d$ documents: \n",
    "\n",
    " $$\\text{TF}(X, i, j) = \\frac{X_{i,j}}{\\sum_{i=1}^{t} X_{i,j}} $$\n",
    " \n",
    " $$\\text{IDF}(X, i) = \\log\\left(\\frac{d}{|\\{j : X_{i,j} > 0\\}|}\\right)$$\n",
    " \n",
    " $$\\text{TF-IDF}(X, i, j) = \\text{TF}(X, i, j) \\cdot \\text{IDF}(X, i)$$\n",
    "\n",
    "\n",
    "On peut l'adapter à notre cas en considérant que le contexte du deuxième mot est le document. Cependant, TF-IDF est généralement plus adaptée aux matrices peu denses, puisque cette mesure pénalisera les termes qui apparaissent dans une grande partie des documents. Ainsi, l'appliquer aux co-occurences des mots les plus fréquents n'est à priori pas optimal."
   ]
  },
  {
   "cell_type": "code",
   "execution_count": 17,
   "metadata": {
    "ExecuteTime": {
     "end_time": "2020-03-10T18:32:57.800865Z",
     "start_time": "2020-03-10T18:32:57.790521Z"
    }
   },
   "outputs": [],
   "source": [
    "def tfidf(co_oc):\n",
    "    \"\"\"\n",
    "    Inverse document frequencies applied to our co_oc matrices\n",
    "    \"\"\"\n",
    "    # IDF\n",
    "    d = float(co_oc.shape[1])\n",
    "    in_doc = co_oc.astype(bool).sum(axis=1)\n",
    "    with np.errstate(divide='ignore', invalid='ignore'):\n",
    "        idfs = np.log(d / in_doc)\n",
    "    idfs[np.isinf(idfs)] = 0.0  # log(0) = 0\n",
    "    # TF\n",
    "    sum_vec = co_oc.sum(axis=0)\n",
    "    tfs = co_oc / sum_vec\n",
    "    return (tfs.T * idfs).T"
   ]
  },
  {
   "cell_type": "code",
   "execution_count": 18,
   "metadata": {
    "ExecuteTime": {
     "end_time": "2020-03-10T18:32:59.667004Z",
     "start_time": "2020-03-10T18:32:57.803794Z"
    }
   },
   "outputs": [],
   "source": [
    "TFIDF5dist = tfidf(M5dist)\n",
    "TFIDF20    = tfidf(M20)"
   ]
  },
  {
   "cell_type": "code",
   "execution_count": 19,
   "metadata": {
    "ExecuteTime": {
     "end_time": "2020-03-10T18:33:01.062662Z",
     "start_time": "2020-03-10T18:32:59.669976Z"
    }
   },
   "outputs": [
    {
     "name": "stdout",
     "output_type": "stream",
     "text": [
      "________________________ TF-IDF ________________________\n",
      "\n",
      "VOCABULAIRE 5000 - voisin de 'good'\n",
      "\n",
      "    [5 mots] - [pondéré]: \n",
      "         distance 'euclidean': ['that', 'as', 'with', 'is', 'in', 'but', 'equivalent', 'charm', 'masterful']\n",
      "         distance 'cosine'   : ['suddenly', 'will', 'hunting', 'a', 'comedy', 'in', 'is', 'charm', 'of']\n",
      "\n",
      "    [20 mots] - [non pondéré] : \n",
      "         distance 'euclidean': ['movie', 'even', 'or', 'just', 'only', 'some', 'than', 'more', 'what']\n",
      "         distance 'cosine'   : ['but', 'this', 'it', 'for', 'movie', 'not', 'film', 'one', 'its']\n"
     ]
    }
   ],
   "source": [
    "print(\"________________________ TF-IDF ________________________\\n\")  \n",
    "\n",
    "print('VOCABULAIRE 5000 - voisin de \\'good\\'\\n')\n",
    "\n",
    "print('    [5 mots] - [pondéré]: ')\n",
    "print(\"         distance \\'euclidean\\':\", get_neighbors(euclidean, vocab_5k, TFIDF5dist, 'good'))\n",
    "print(\"         distance \\'cosine\\'   :\", get_neighbors(cosine, vocab_5k, TFIDF5dist, 'good'))\n",
    "print(\"\")\n",
    "print('    [20 mots] - [non pondéré] : ')\n",
    "print(\"         distance \\'euclidean\\':\", get_neighbors(euclidean, vocab_5k, TFIDF20, 'good'))\n",
    "print(\"         distance \\'cosine\\'   :\", get_neighbors(cosine, vocab_5k, TFIDF20, 'good'))"
   ]
  },
  {
   "cell_type": "markdown",
   "metadata": {
    "ExecuteTime": {
     "end_time": "2020-03-05T20:59:24.610969Z",
     "start_time": "2020-03-05T20:59:24.594845Z"
    }
   },
   "source": [
    "<font color=\"blue\"> \n",
    "Les résultats en appliquant la TF-IDF ne semble pas plus concluant, ils sont même pire que les précédents. On pouvait s'y attendre puisque cette méthode est plutôt adaptée aux matrices peu denses, puisqu'elle pénalise les termes qui apparaissent dans une grande partie des documents. Ainsi, l'appliquer aux co-occurences des mots les plus fréquents ne donne pas des résultats correct.\n",
    "</font>"
   ]
  },
  {
   "cell_type": "markdown",
   "metadata": {},
   "source": [
    "### Matrice de co-occurences : Réduction de dimension\n",
    "\n",
    "#### Motivation\n",
    "\n",
    "Il s'agit non seulement de réduire la taille de données (ainsi, on traitera des vecteurs de dimension réduite, plutôt que de travailler avec des vecteurs de la taille du vocabulaire) mais aussi de mettre en évidence des relations de plus haut niveau entre les mots: en réduisant leurs représentations aux dimensions qui *les plus importantes* des données, on se retrouve à *généraliser* certaines propriétés entre les mots."
   ]
  },
  {
   "cell_type": "markdown",
   "metadata": {},
   "source": [
    "#### Réduction de dimension via SVD \n",
    "\n",
    "Une matrice est une transformation linéaire: y appliquer une SVD, c'est décomposer notre transformation linéaire en un produit de transformations linéaires de différents types. Il va s'agir d'effectuer un changement de base, et de replacer nos données dans un espace ou chacune des coordonnées sont inchangées par la transformation effectuée. Ainsi, on décompose la matrice $\\mathbf{M}$ en trois matrices:\n",
    "\n",
    "$$ \\mathbf{M} = \\mathbf{U} \\mathbf{\\lambda} \\mathbf{V}^{\\text{T}} $$\n",
    "\n",
    "Les matrices $\\mathbf{U}$, $\\mathbf{\\lambda}$, et $\\mathbf{V}$ ont les propriétés suivantes:\n",
    "- $\\mathbf{U}$ et $\\mathbf{V}$ sont des matrices orthogonales ($\\mathbf{U}^{\\text{T}} = \\mathbf{U}^{-1}$ et $\\mathbf{V}^{\\text{T}} = \\mathbf{V}^{-1}$). Elles contiennent les vecteurs propres à gauche et à droite de $\\mathbf{M}$.\n",
    "- $\\mathbf{\\lambda}$ est une matrice diagonale: attention, elle n'est pas forcément carrée. Les coefficients de la diagonale sont les valeurs propres de $\\mathbf{M}$.\n",
    "\n",
    "Ainsi, les dimensions *les plus importantes* correspondent aux plus grandes valeurs propres. Réduire nos données à une dimension $k$ correspond à ne garder que les vecteurs correspondant aux $k$ premières valeurs propres - et cela revient à prendre les $k$ premiers vecteurs de la matrice $U$. \n",
    "On utilise ici ```TruncatedSVD``` du package ```scikit-learn```:"
   ]
  },
  {
   "cell_type": "code",
   "execution_count": 20,
   "metadata": {
    "ExecuteTime": {
     "end_time": "2020-03-10T18:33:10.290112Z",
     "start_time": "2020-03-10T18:33:01.069493Z"
    }
   },
   "outputs": [
    {
     "name": "stdout",
     "output_type": "stream",
     "text": [
      "(5002, 300)\n",
      "(5002, 300)\n"
     ]
    }
   ],
   "source": [
    "from sklearn.decomposition import TruncatedSVD\n",
    "svd = TruncatedSVD(n_components=300)\n",
    "\n",
    "SVD5dist = svd.fit_transform(M5dist)\n",
    "print(SVD5dist.shape)\n",
    "\n",
    "SVD20 = svd.fit_transform(M20)\n",
    "print(SVD20.shape)"
   ]
  },
  {
   "cell_type": "code",
   "execution_count": 21,
   "metadata": {
    "ExecuteTime": {
     "end_time": "2020-03-10T18:33:10.854307Z",
     "start_time": "2020-03-10T18:33:10.296982Z"
    }
   },
   "outputs": [
    {
     "name": "stdout",
     "output_type": "stream",
     "text": [
      "________________________ SVD ________________________\n",
      "\n",
      "VOCABULAIRE 5000 - voisin de 'good'\n",
      "\n",
      "    [5 mots] - [pondéré]: \n",
      "         distance 'euclidean': ['bad', 'plot', 'very', 'just', 'comedy', 'little', 'man', 'life', 'big']\n",
      "         distance 'cosine'   : ['bad', 'very', 'funny', 'fine', 'great', 'plot', 'pace', 'shock', 'basically']\n",
      "\n",
      "    [20 mots] - [non pondéré] : \n",
      "         distance 'euclidean': ['story', 'can', 'also', 'much', 'will', 'time', 'character', 'we', 'films']\n",
      "         distance 'cosine'   : ['bad', 'very', 'great', 'really', 'quite', 'not', 'fun', 'serious', 'it']\n"
     ]
    }
   ],
   "source": [
    "print(\"________________________ SVD ________________________\\n\")  \n",
    "\n",
    "print('VOCABULAIRE 5000 - voisin de \\'good\\'\\n')\n",
    "\n",
    "print('    [5 mots] - [pondéré]: ')\n",
    "print(\"         distance \\'euclidean\\':\", get_neighbors(euclidean, vocab_5k, SVD5dist, 'good'))\n",
    "print(\"         distance \\'cosine\\'   :\", get_neighbors(cosine, vocab_5k, SVD5dist, 'good'))\n",
    "print(\"\")\n",
    "print('    [20 mots] - [non pondéré] : ')\n",
    "print(\"         distance \\'euclidean\\':\", get_neighbors(euclidean, vocab_5k, SVD20, 'good'))\n",
    "print(\"         distance \\'cosine\\'   :\", get_neighbors(cosine, vocab_5k, SVD20, 'good'))"
   ]
  },
  {
   "cell_type": "markdown",
   "metadata": {},
   "source": [
    "Note: Lorsque l'on applique cette méthode à la matrice des comptes $\\mathbf{M}$ de dimension $T \\times D$, où $\\mathbf{M}_{t,d}$ contient le nombre d'occurences du mot $t$ dans le document $d$, on obtient la méthode appellée **Latent Semantic Analysis**, pour la détection de composantes latentes (sémantiques) permettant de regrouper les documents.  "
   ]
  },
  {
   "cell_type": "markdown",
   "metadata": {},
   "source": [
    "#### Visualisation en deux dimensions\n",
    "\n",
    "On va maintenant utiliser **l'analyse en composantes principales** (PCA) pour visualiser nos données en 2 dimensions.  Cela revient à appliquer la SVD à la matrice de covariance des données, pour que les directions principales soient indépendantes les unes des autres et maximisent la variance des données.\n",
    "On utilise la classe ```PCA``` du package ```scikit-learn```: "
   ]
  },
  {
   "cell_type": "code",
   "execution_count": 22,
   "metadata": {
    "ExecuteTime": {
     "end_time": "2020-03-10T18:33:12.298675Z",
     "start_time": "2020-03-10T18:33:10.856177Z"
    }
   },
   "outputs": [
    {
     "data": {
      "image/png": "[encoded data removed]",
      "text/plain": [
       "<Figure size 432x288 with 1 Axes>"
      ]
     },
     "metadata": {
      "needs_background": "light"
     },
     "output_type": "display_data"
    }
   ],
   "source": [
    "from sklearn.decomposition import PCA\n",
    "pca = PCA(n_components=2, whiten=True)\n",
    "Emb = pca.fit_transform(M5dist)\n",
    "\n",
    "words = ['bad', 'good', 'best', 'worst', 'poor', 'great',\n",
    "         'dialog', 'role', 'actor', 'camera', 'scene',\n",
    "         'film', 'movie', 'oscar', 'award']\n",
    "ind_words = [vocab_5k[w] for w in words]\n",
    "x_words = [Emb[ind,0] for ind in ind_words]\n",
    "y_words = [Emb[ind,1] for ind in ind_words]\n",
    "\n",
    "fig, ax = plt.subplots()\n",
    "ax.scatter(x_words, y_words)\n",
    "\n",
    "for i, w in enumerate(words):\n",
    "    ax.annotate(w, (x_words[i], y_words[i]), (x_words[i] + 0.001, y_words[i] + 0.001))"
   ]
  },
  {
   "cell_type": "markdown",
   "metadata": {},
   "source": [
    "<font color=\"blue\"> \n",
    "On visualise la proximité des mots movies et film mais il reste tout de même un paquet de mot dont on ne distingue pas grand chose.\n",
    "</font>"
   ]
  },
  {
   "cell_type": "code",
   "execution_count": 23,
   "metadata": {
    "ExecuteTime": {
     "end_time": "2020-03-10T18:33:14.644982Z",
     "start_time": "2020-03-10T18:33:12.301603Z"
    }
   },
   "outputs": [
    {
     "data": {
      "image/png": "[encoded data removed]",
      "text/plain": [
       "<Figure size 432x288 with 1 Axes>"
      ]
     },
     "metadata": {
      "needs_background": "light"
     },
     "output_type": "display_data"
    }
   ],
   "source": [
    "Norm5 = M5dist / np.linalg.norm(M5dist, ord=2, axis=1, keepdims=True)\n",
    "\n",
    "pca = PCA(n_components=2, whiten=True)\n",
    "Emb = pca.fit_transform(Norm5)\n",
    "\n",
    "words = ['bad', 'good', 'best', 'worst', 'poor', 'great',\n",
    "         'dialog', 'role', 'actor', 'camera', 'scene',\n",
    "         'film', 'movie', 'oscar', 'award']\n",
    "ind_words = [vocab_5k[w] for w in words]\n",
    "x_words   = [Emb[ind,0] for ind in ind_words]\n",
    "y_words   = [Emb[ind,1] for ind in ind_words]\n",
    "\n",
    "fig, ax = plt.subplots()\n",
    "ax.scatter(x_words, y_words)\n",
    "\n",
    "for i, w in enumerate(words):\n",
    "    ax.annotate(w, (x_words[i], y_words[i]), (x_words[i] + 0.001, y_words[i] + 0.001))"
   ]
  },
  {
   "cell_type": "markdown",
   "metadata": {},
   "source": [
    "<font color=\"blue\"> \n",
    "En normalisant les distances obtenues, on parvient à mieux visualiser les résultats. On note que bad-good-great sont proches l'un de l'autres ainsi que movie-scene-film, ce qui est plutôt satisfaisant. Il est difficile de tirer de réelles conclusions pour les autres mots\n",
    "</font>"
   ]
  },
  {
   "cell_type": "markdown",
   "metadata": {},
   "source": [
    "## Obtenir une représentation: algorithmes couramment utilisés\n",
    "\n",
    "L'idée, ici, est de définir un ensemble de représentations ${w_{i}}_{i=1}^{V}$, de dimension prédéfinie $d$ (ici, on travaillera avec $d = 300$), pour tous les mots $i$ du vocabulaire $V$ - puis **d'entraîner** ces représentations pour qu'elles correspondent à ce que l'on souhaite. "
   ]
  },
  {
   "cell_type": "markdown",
   "metadata": {},
   "source": [
    "### Glove\n",
    "\n",
    "L'objectif défini par Glove ([Pennington et al. (2014)](http://www.aclweb.org/anthology/D/D14/D14-1162.pdf)) est d'apprendre des vecteurs $w_{i}$ et $w_{k}$ de façon à ce que leur produit scalaire correspondent au logarithme de leur **Pointwise Mutual Information**: \n",
    "\n",
    "\n",
    "$$ w_{i}^\\top w_{k} = (PMI(w_{i}, w_{k}))$$\n",
    "\n",
    "\n",
    "Dans l'article, l'obtention de cet objectif est minutieusement justifié par un raisonnement sur les opérations que l'on veut effectuer avec ces vecteurs et les propriétés qu'ils devraient avoir - notamment, une symétrie entre les lignes et les colonnes (voir l'article pour plus de détails).  \n",
    "L'objectif final obtenu est le suivant, où $M$ est la matrice de co-occurences:\n",
    "\n",
    "\n",
    "$$\\sum_{i, j=1}^{|V|} f\\left(M_{ij}\\right)\n",
    "  \\left(w_i^\\top w_j + b_i + b_j - \\log M_{ij}\\right)^2$$\n",
    "  \n",
    " \n",
    "Ici, $f$ est une fonction de *mise à l'échelle* qui permet de diminuer l'importance des comptes de co-occurences les plus fréquents: \n",
    "\n",
    "\n",
    "$$f(x) \n",
    "\\begin{cases}\n",
    "(x/x_{\\max})^{\\alpha} & \\textrm{if } x < x_{\\max} \\\\\n",
    "1 & \\textrm{otherwise}\n",
    "\\end{cases}$$\n",
    "\n",
    "\n",
    "En général, on choisit $\\alpha=0.75$ et $x_{\\max} = 100$, même si ces paramètres peuvent nécessiter un changement selon les données."
   ]
  },
  {
   "cell_type": "markdown",
   "metadata": {},
   "source": [
    "Le code suivant utilise l'API de gensim pour récupérer des représentations pré-entrainées (Il est normal que le chargement soit long)."
   ]
  },
  {
   "cell_type": "code",
   "execution_count": 24,
   "metadata": {
    "ExecuteTime": {
     "end_time": "2020-03-10T18:36:33.961966Z",
     "start_time": "2020-03-10T18:33:14.647910Z"
    }
   },
   "outputs": [],
   "source": [
    "import gensim.downloader as api\n",
    "loaded_glove_model = api.load(\"glove-wiki-gigaword-300\")"
   ]
  },
  {
   "cell_type": "markdown",
   "metadata": {},
   "source": [
    "On peut extraire la matrice des embeddings ainsi, et vérifier sa taille:"
   ]
  },
  {
   "cell_type": "code",
   "execution_count": 25,
   "metadata": {
    "ExecuteTime": {
     "end_time": "2020-03-10T18:36:33.977581Z",
     "start_time": "2020-03-10T18:36:33.964999Z"
    }
   },
   "outputs": [
    {
     "name": "stdout",
     "output_type": "stream",
     "text": [
      "(400000, 300)\n"
     ]
    }
   ],
   "source": [
    "loaded_glove_embeddings = loaded_glove_model.vectors\n",
    "print(loaded_glove_embeddings.shape)"
   ]
  },
  {
   "cell_type": "markdown",
   "metadata": {},
   "source": [
    "On voit donc qu'il y a $400.000$ mots représentés, et que les embeddings sont de dimension $300$. On définit une fonction qui nous renvoie, à partir du modèle chargé, le vocabulaire et la matrice des embeddings suivant les structures que l'on a utilisé auparavant. On ajoute, ici encore, un mot inconnu ```'UNK'``` au cas où se trouve dans nos données des mots qui ne font pas parti des $400.000$ mots représentés ici. "
   ]
  },
  {
   "cell_type": "code",
   "execution_count": 26,
   "metadata": {
    "ExecuteTime": {
     "end_time": "2020-03-10T18:36:34.108494Z",
     "start_time": "2020-03-10T18:36:33.980510Z"
    }
   },
   "outputs": [],
   "source": [
    "def get_glove_voc_and_embeddings(glove_model):\n",
    "    voc = {word : index for word, index in enumerate(glove_model.index2word)}\n",
    "    voc['UNK'] = len(voc)\n",
    "    embeddings = glove_model.vectors\n",
    "    return voc, embeddings"
   ]
  },
  {
   "cell_type": "code",
   "execution_count": 27,
   "metadata": {
    "ExecuteTime": {
     "end_time": "2020-03-10T18:36:34.509506Z",
     "start_time": "2020-03-10T18:36:34.115349Z"
    }
   },
   "outputs": [],
   "source": [
    "loaded_glove_voc, loaded_glove_embeddings = get_glove_voc_and_embeddings(loaded_glove_model)"
   ]
  },
  {
   "cell_type": "markdown",
   "metadata": {},
   "source": [
    "Afin de comparer 'à jeu égal' les représentations chargées ici et celles que l'on a produite, il faudrait utiliser le même vocabulaire. Dans ce but, je réutilise le code qui suit pour créer un vocabulaire de $5000$ mots à partir des données exactement comme hier, et j'ajoute à la fin une fonction qui renvoie la matrices des représentations chargées avec Glove pour ces $5000$ mots seulement, dans le bon ordre. "
   ]
  },
  {
   "cell_type": "code",
   "execution_count": 28,
   "metadata": {
    "ExecuteTime": {
     "end_time": "2020-03-10T18:36:34.529100Z",
     "start_time": "2020-03-10T18:36:34.514386Z"
    }
   },
   "outputs": [],
   "source": [
    "def get_glove_adapted_embeddings(glove_model, input_voc):\n",
    "    keys = {i: glove_model.vocab.get(w, None) for w, i in input_voc.items()}\n",
    "    index_dict = {i: key.index for i, key in keys.items() if key is not None}\n",
    "    embeddings = np.zeros((len(input_voc),glove_model.vectors.shape[1]))\n",
    "    for i, ind in index_dict.items():\n",
    "        embeddings[i] = glove_model.vectors[ind]\n",
    "    return embeddings"
   ]
  },
  {
   "cell_type": "code",
   "execution_count": 29,
   "metadata": {
    "ExecuteTime": {
     "end_time": "2020-03-10T18:36:34.677491Z",
     "start_time": "2020-03-10T18:36:34.533904Z"
    }
   },
   "outputs": [],
   "source": [
    "GloveEmbeddings = get_glove_adapted_embeddings(loaded_glove_model, vocab_5k)"
   ]
  },
  {
   "cell_type": "markdown",
   "metadata": {},
   "source": [
    "Cette fonction prend donc en entrée le modèle chargé à l'aide de l'API Gensim, ainsi qu'un vocabulaire que nous avons créé nous même, et renvoie la matrice d'embeddings tiré du modèle chargé, pour les mots notre vocabulaire et dans le bon ordre.\n",
    "Remarque: les mots inconnus sont représentés par le vecteur nul:"
   ]
  },
  {
   "cell_type": "code",
   "execution_count": 30,
   "metadata": {
    "ExecuteTime": {
     "end_time": "2020-03-10T18:36:34.772048Z",
     "start_time": "2020-03-10T18:36:34.682256Z"
    }
   },
   "outputs": [
    {
     "name": "stdout",
     "output_type": "stream",
     "text": [
      "(5002, 300)\n"
     ]
    }
   ],
   "source": [
    "print(GloveEmbeddings.shape)"
   ]
  },
  {
   "cell_type": "code",
   "execution_count": 31,
   "metadata": {
    "ExecuteTime": {
     "end_time": "2020-03-10T18:36:35.535379Z",
     "start_time": "2020-03-10T18:36:34.778998Z"
    }
   },
   "outputs": [
    {
     "name": "stdout",
     "output_type": "stream",
     "text": [
      "________________________ GLOVE ________________________\n",
      "\n",
      "VOCABULAIRE 5000 - voisin de 'good'\n",
      "\n",
      "     distance 'euclidean': ['better', 'well', 'always', 'really', 'sure', 'way', 'so', 'but', 'excellent']\n",
      "     distance 'cosine'   : ['better', 'really', 'always', 'you', 'well', 'excellent', 'very', 'things', 'think']\n"
     ]
    }
   ],
   "source": [
    "print(\"________________________ GLOVE ________________________\\n\")  \n",
    "\n",
    "print('VOCABULAIRE 5000 - voisin de \\'good\\'\\n')\n",
    "\n",
    "print(\"     distance \\'euclidean\\':\", get_neighbors(euclidean, vocab_5k, GloveEmbeddings, 'good'))\n",
    "print(\"     distance \\'cosine\\'   :\", get_neighbors(cosine, vocab_5k, GloveEmbeddings, 'good'))"
   ]
  },
  {
   "cell_type": "markdown",
   "metadata": {},
   "source": [
    "<font color=\"blue\"> \n",
    "Les résultats obtenus avec ce Glove Embedding sont encore différents que les méthodes précédentes et pas spécialement meilleur puisqu'on trouve des mots comme 'always', 'you', 'things', 'think', 'sure', 'way' qui n'ont pas spécialement de lien sémantique avec le mot 'good'. Bizarrement, malgré le fait que Gl0ve soit pré-appris (sur des textes plus variés), les voisins de 'good' ne sont pas spécialement meilleurs (pas de synonyme) , peut-être que les critiques de film n'ont pas beaucoup de synonymes de \"good\" dans leur vocabulaire ...\n",
    "</font>"
   ]
  },
  {
   "cell_type": "markdown",
   "metadata": {},
   "source": [
    "### Word2Vec\n",
    "\n",
    "\n",
    "#### Le modèle skip-gram\n",
    "\n",
    "Le modèle skip-gram de base estime les probabilités d'une paire de mots $(i, j)$ d'apparaître ensemble:\n",
    "\n",
    "\n",
    "$$P(j \\mid i) = \\frac{\\exp(w_{i} c_{j})}{\\sum_{j'\\in V}\\exp(w_{i} c_{j'})}$$\n",
    "\n",
    "\n",
    "où $w_{i}$ est le vecteur ligne (du mot) $i$ et $c_{j}$ est le vecteur colonne (d'un mot du contexte) $j$. L'objectif est de minimiser la quantité suivante: \n",
    "\n",
    "\n",
    "$$ -\\sum_{i=1}^{m} \\sum_{k=1}^{|V|} \\textbf{1}\\{o_{i}=k\\} \\log \\frac{\\exp(w_{i} c_{k})}{\\sum_{j=1}^{|V|} \\exp(w_{i} c_{j})}$$\n",
    "\n",
    "\n",
    "ou $V$ est le vocabulaire.\n",
    "Les entrées $w_{i}$ sont les représentations des mots, que l'on met à jour pendant l'entraînement, et la sortie est un vecteur *one-hot* $o$, qui ne contient qu'un seul $1$ et des $0$. Par exemple, si `good` est le  47ème mot du vocabulaire, la sortie $o$ pour un exemple ou `good` est le mot à prédire consistera en des $0$s partout sauf un $1$ en 47ème position du vecteur. `good` sera le mot à prédire lorsque l'entrée $w$ sera un mot de son contexte\n",
    "On obient donc cette sortie avec softmax standard - on ajoute un terme de biais $b$.\n",
    "\n",
    "\n",
    "$$ o = \\textbf{softmax}(w_{i}C + b)$$\n",
    "\n",
    "\n",
    "Si l'on utilise l'ensemble des représentations pour tout le vocabulaire (la matrice $W$) comme entrée, on obtient \n",
    "\n",
    "\n",
    "$$ O = \\textbf{softmax}(WC + b)$$\n",
    "\n",
    "\n",
    "et on revient ainsi à l'idée centrale de toutes nos méthodes: on cherche à obtenir des représentations de mots à partir de comptes de co-occurences. Ici, on entraîne les paramètres contenus dans $W$ et $C$, deux matrices représentants les mots en dimension réduite (300) de façon à ce que leur produit scalaire soit le plus proche possible des co-occurences observées dans les données, à l'aide d'un objectif de maximum de vraisemblance.\n",
    "\n",
    "#### Le skip gram avec negative sampling\n",
    "\n",
    "L'entraînement du modèle skip-gram implique de calculer une somme sur l'ensemble du vocabulaire, à cause du **softmax**. Dès que la taille du vocabulaire augmente, cela devient infaisalbe. Afin de rendre les calculs plus rapides, on change l'objectif et on utilise la méthode du *negative sampling* (ou, celle, très proche, du *noise contrastive estimation*).\n",
    "\n",
    "\n",
    "Si on note $\\mathcal{D}$ l'ensemble des données et que l'on not $\\mathcal{D}'$ un ensemble de paires de mots qui ne sont **pas** dans les données (et qu'en pratique, l'on tire aléatoirement, l'objectif est:\n",
    "\n",
    "\n",
    "$$\\sum_{i, j \\in \\mathcal{D}}-\\log\\sigma(w_{i}c_{j}) + \\sum_{i, j \\in \\mathcal{D}'}\\log\\sigma(w_{i}c_{j})$$\n",
    "\n",
    "\n",
    "ou $\\sigma$ est la fonction d'activation sigmoide $\\frac{1}{1 + \\exp(-x)}$.\n",
    "Une pratique commune est de générer les paires de $\\mathcal{D}'$ de manière proportionelle aux fréquences des mots dans les données d'entraînement (ce qu'on appelle la distribution unigramme):\n",
    "\n",
    "\n",
    "$$P(w) = \\frac{\\textbf{T}(w)^{0.75}}{\\sum_{w'\\in V} \\textbf{T}(w')}$$\n",
    "\n",
    "\n",
    "Bien que différente, cette nouvelle fonction objectif est une approximation suffisante de la précédente, et est basée sur le même principe. De nombreuses recherches ont été effectuées sur cet objectif: par exemple, [Levy and Golberg 2014](http://papers.nips.cc/paper/5477-neural-word-embedding-as-implicit-matrix-factorization) démontre que l'objectif calcule la matrice de PMI décalé d'une valeur constante. On peut aussi voir [Cotterell et al. 2017](https://aclanthology.coli.uni-saarland.de/papers/E17-2028/e17-2028) pour une interprétation de l'algorithme comme une variante de la PCA."
   ]
  },
  {
   "cell_type": "markdown",
   "metadata": {},
   "source": [
    "On va utiliser la bibliothèque ```gensim``` pour son implémentation de word2vec en python. On va devoir en faire une utilisation un peu spécifique, puisqu'on veut conserver le même vocabulaire qu'auparavant: on va d'abord créer la classe, puis récupérer le vocabulaire qu'on a utilisé plus haut. \n",
    "Pour ne pas à avoir à mettre toutes les données en mémoire d'un coup, on définit un générateur, qui prendra toutes les données en entrée et les pré-traitera et renverra à la classe ```Word2Vec``` phrase par phrase. "
   ]
  },
  {
   "cell_type": "code",
   "execution_count": 32,
   "metadata": {
    "ExecuteTime": {
     "end_time": "2020-03-10T18:36:38.877267Z",
     "start_time": "2020-03-10T18:36:35.541137Z"
    }
   },
   "outputs": [],
   "source": [
    "from gensim.models import Word2Vec\n",
    "\n",
    "model_5 = Word2Vec(size=300, window=5, null_word=1, iter=30)\n",
    "model_5.build_vocab_from_freq(word_counts_5k)\n",
    "\n",
    "model_20 = Word2Vec(size=300, window=20, null_word=1, iter=30)\n",
    "model_20.build_vocab_from_freq(word_counts_5k)"
   ]
  },
  {
   "cell_type": "code",
   "execution_count": 33,
   "metadata": {
    "ExecuteTime": {
     "end_time": "2020-03-10T18:36:38.883938Z",
     "start_time": "2020-03-10T18:36:38.880035Z"
    }
   },
   "outputs": [],
   "source": [
    "def preprocess_generator(large_corpus):\n",
    "    for line in large_corpus:\n",
    "        yield clean_and_tokenize(line)"
   ]
  },
  {
   "cell_type": "code",
   "execution_count": 34,
   "metadata": {
    "ExecuteTime": {
     "end_time": "2020-03-10T18:36:41.450821Z",
     "start_time": "2020-03-10T18:36:38.887842Z"
    }
   },
   "outputs": [
    {
     "data": {
      "text/plain": [
       "(851105, 1305272)"
      ]
     },
     "execution_count": 34,
     "metadata": {},
     "output_type": "execute_result"
    }
   ],
   "source": [
    "model_5.train(preprocess_generator(texts[:]), total_examples=len(texts), epochs=30, report_delay=1)"
   ]
  },
  {
   "cell_type": "code",
   "execution_count": 35,
   "metadata": {
    "ExecuteTime": {
     "end_time": "2020-03-10T18:36:44.013878Z",
     "start_time": "2020-03-10T18:36:41.452773Z"
    }
   },
   "outputs": [
    {
     "data": {
      "text/plain": [
       "(850944, 1305272)"
      ]
     },
     "execution_count": 35,
     "metadata": {},
     "output_type": "execute_result"
    }
   ],
   "source": [
    "model_20.train(preprocess_generator(texts[:]), total_examples=len(texts), epochs=30, report_delay=1)"
   ]
  },
  {
   "cell_type": "code",
   "execution_count": 36,
   "metadata": {
    "ExecuteTime": {
     "end_time": "2020-03-10T18:36:44.022585Z",
     "start_time": "2020-03-10T18:36:44.015752Z"
    }
   },
   "outputs": [
    {
     "name": "stdout",
     "output_type": "stream",
     "text": [
      "(5002, 300)\n",
      "(5002, 300)\n"
     ]
    }
   ],
   "source": [
    "W2VEmbeddings_5  = model_5.wv.vectors\n",
    "W2VEmbeddings_20 = model_20.wv.vectors\n",
    "print(W2VEmbeddings_5.shape)\n",
    "print(W2VEmbeddings_20.shape)"
   ]
  },
  {
   "cell_type": "code",
   "execution_count": 37,
   "metadata": {
    "ExecuteTime": {
     "end_time": "2020-03-10T18:36:45.482682Z",
     "start_time": "2020-03-10T18:36:44.025562Z"
    }
   },
   "outputs": [
    {
     "name": "stdout",
     "output_type": "stream",
     "text": [
      "________________________ W2V ________________________\n",
      "\n",
      "VOCABULAIRE 5000 - voisin de 'good'\n",
      "\n",
      "    [5 mots] : \n",
      "         distance 'euclidean': ['well', 'funny', 'very', 'bad', 'quite', 'fun', 'pretty', 'great', 'certainly']\n",
      "         distance 'cosine'   : ['funny', 'well', 'pretty', 'bad', 'very', 'quite', 'great', 'fun', 'lot']\n",
      "\n",
      "    [20 mots] : \n",
      "         distance 'euclidean': ['very', 'great', 'acting', 'well', 'although', 'comedy', 'bad', 'funny', 'though']\n",
      "         distance 'cosine'   : ['very', 'great', 'acting', 'although', 'here', 'well', 'comedy', 'bad', 'its']\n"
     ]
    }
   ],
   "source": [
    "print(\"________________________ W2V ________________________\\n\")  \n",
    "\n",
    "print('VOCABULAIRE 5000 - voisin de \\'good\\'\\n')\n",
    "\n",
    "print('    [5 mots] : ')\n",
    "print(\"         distance \\'euclidean\\':\", get_neighbors(euclidean, vocab_5k, W2VEmbeddings_5, 'good'))\n",
    "print(\"         distance \\'cosine\\'   :\", get_neighbors(cosine, vocab_5k, W2VEmbeddings_5, 'good'))\n",
    "print(\"\")\n",
    "print('    [20 mots] : ')\n",
    "print(\"         distance \\'euclidean\\':\", get_neighbors(euclidean, vocab_5k, W2VEmbeddings_20, 'good'))\n",
    "print(\"         distance \\'cosine\\'   :\", get_neighbors(cosine, vocab_5k, W2VEmbeddings_20, 'good'))"
   ]
  },
  {
   "cell_type": "markdown",
   "metadata": {},
   "source": [
    "## Application à l'analyse de sentiments\n",
    "\n",
    "On va maintenant utiliser ces représentations pour l'analyse de sentiments. \n",
    "Le modèle de base, comme hier, sera construit en deux étapes:\n",
    "- Une fonction permettant d'obtenir des représentations vectorielles des critiques, à partir des textes, du vocabulaire, et des représentations vectorielles des mots. Une telle fonction (à compléter ci-dessous) va associer à chaque mot d'une critique son embeddings, et créer la représentation pour l'ensemble de la phrase en sommant ces embeddings.\n",
    "- Un classifieur qui prendra ces représentations en entrée et réalisera une prédiction. Pour le réaliser, on pourra utiliser d'abord la régression logistique ```LogisticRegression``` de ```scikit-learn```  "
   ]
  },
  {
   "cell_type": "code",
   "execution_count": 38,
   "metadata": {
    "ExecuteTime": {
     "end_time": "2020-03-10T18:36:45.510986Z",
     "start_time": "2020-03-10T18:36:45.489515Z"
    }
   },
   "outputs": [],
   "source": [
    "def sentence_representations(texts, vocabulary, embeddings, np_func=np.sum):\n",
    "    \"\"\"\n",
    "    Represent the sentences as a combination of the vector of its words.\n",
    "    Parameters\n",
    "    ----------\n",
    "    texts : a list of sentences   \n",
    "    vocabulary : dict - From words to indexes of vector.\n",
    "    embeddings : Matrix containing word representations\n",
    "    np_func : function (default: np.sum)-  A numpy matrix operation that can be applied columnwise, \n",
    "                                            like `np.mean`, `np.sum`, or `np.prod`. \n",
    "    Returns\n",
    "    -------\n",
    "    np.array, dimension `(len(texts), embeddings.shape[1])`            \n",
    "    \"\"\"\n",
    "    representations = np.zeros((len(texts),embeddings.shape[1]))\n",
    "    \n",
    "    for i,text in enumerate(texts):\n",
    "        \n",
    "        text          = clean_and_tokenize(text)\n",
    "        word_index    = [vocabulary[word] if word in vocabulary else vocabulary['UNK'] for word in text] # index of the word in the vocabulary\n",
    "        word_embedded = embeddings[word_index,:] # map the word in embedded representation\n",
    "        text_embedded = np_func(word_embedded,axis=0) # apply input function\n",
    "        \n",
    "        representations[i,:] = text_embedded\n",
    "        \n",
    "    return representations"
   ]
  },
  {
   "cell_type": "code",
   "execution_count": 39,
   "metadata": {
    "ExecuteTime": {
     "end_time": "2020-03-10T18:43:30.733157Z",
     "start_time": "2020-03-10T18:36:45.516844Z"
    }
   },
   "outputs": [
    {
     "name": "stdout",
     "output_type": "stream",
     "text": [
      "======== Co-occurences =========\n",
      "test score : 0.692\n",
      "Score de classification: 0.698 (std 0.010)\n",
      "\n",
      "========= PPMI =========\n",
      "test score : 0.818\n",
      "Score de classification: 0.830 (std 0.009)\n",
      "\n",
      "======== TF-IDF =========\n",
      "test score : 0.79\n",
      "Score de classification: 0.807 (std 0.015)\n",
      "\n",
      "========== Glove ========\n",
      "test score : 0.753\n",
      "Score de classification: 0.789 (std 0.017)\n",
      "\n",
      "========= Word2Vec ========\n",
      "test score : 0.729\n",
      "Score de classification: 0.756 (std 0.023)\n"
     ]
    }
   ],
   "source": [
    "from sklearn.linear_model import LogisticRegression\n",
    "from sklearn.model_selection import cross_val_score\n",
    "import warnings\n",
    "from sklearn.exceptions import ConvergenceWarning\n",
    "warnings.filterwarnings(action='ignore', category=ConvergenceWarning)\n",
    "\n",
    "print(\"======== Co-occurences =========\") \n",
    "rep = sentence_representations(texts, vocab_5k, M5dist)\n",
    "clf = LogisticRegression(solver='lbfgs', max_iter=1000,tol=0.001).fit(rep[::2], y[::2])\n",
    "print('test score :', clf.score(rep[1::2], y[1::2]))\n",
    "scores = cross_val_score(clf, rep, y, cv=5)\n",
    "print('Score de classification: %.3f (std %.3f)' % (np.mean(scores), np.std(scores)))\n",
    "\n",
    "print(\"\\n========= PPMI =========\")\n",
    "rep = sentence_representations(texts, vocab_5k, PPMI5dist)\n",
    "clf = LogisticRegression(solver='lbfgs', max_iter=10000).fit(rep[::2], y[::2])\n",
    "print('test score :', clf.score(rep[1::2], y[1::2]))\n",
    "scores = cross_val_score(clf, rep, y, cv=5)\n",
    "print('Score de classification: %.3f (std %.3f)' % (np.mean(scores), np.std(scores)))\n",
    "\n",
    "print(\"\\n======== TF-IDF =========\") \n",
    "rep = sentence_representations(texts, vocab_5k, TFIDF5dist)\n",
    "clf = LogisticRegression(solver='lbfgs', max_iter=10000).fit(rep[::2], y[::2])\n",
    "print('test score :', clf.score(rep[1::2], y[1::2]))\n",
    "scores = cross_val_score(clf, rep, y, cv=5)\n",
    "print('Score de classification: %.3f (std %.3f)' % (np.mean(scores), np.std(scores)))\n",
    "\n",
    "print(\"\\n========== Glove ========\")\n",
    "rep = sentence_representations(texts, vocab_5k, GloveEmbeddings)\n",
    "clf = LogisticRegression(solver='lbfgs', max_iter=10000).fit(rep[::2], y[::2])\n",
    "print('test score :', clf.score(rep[1::2], y[1::2]))\n",
    "scores = cross_val_score(clf, rep, y, cv=5)\n",
    "print('Score de classification: %.3f (std %.3f)' % (np.mean(scores), np.std(scores)))\n",
    "\n",
    "print(\"\\n========= Word2Vec ========\")\n",
    "rep = sentence_representations(texts, vocab_5k, W2VEmbeddings_5)\n",
    "clf = LogisticRegression(solver='lbfgs', max_iter=10000).fit(rep[::2], y[::2])\n",
    "print('test score :', clf.score(rep[1::2], y[1::2]))\n",
    "scores = cross_val_score(clf, rep, y, cv=5)\n",
    "print('Score de classification: %.3f (std %.3f)' % (np.mean(scores), np.std(scores)))"
   ]
  },
  {
   "cell_type": "markdown",
   "metadata": {},
   "source": [
    "Vous pouvez maintenant comparer l'ensemble des méthodes, et notamment répondre aux questions suivantes:\n",
    "\n",
    "- Pourquoi peut-on s'attendre à ce que les résultats obtenus avec les embeddings extraits des représentations pré-apprises avec Gl0ve soient bien meilleurs que les autres ? Quel serait le moyen de comparer de manière 'juste' Gl0ve avec les autres méthodes d'apprentissage de représentations ?\n",
    "\n",
    "<font color=\"blue\"> \n",
    "On peut s'attendre à de meilleurs résultats avec Gl0ve puisque le modèle a été pré-appris sur des textes plus variés et donc plus représentatif du langage, contrairement à notre autres modèles qui apprennent seulement sur des critiques de films. Pour comparer, il faudrait que le modèle Gl0ve apprenne sa représentation sur le même ensemble de donnnées (ici, des critiques de film) que les autres modèles. \n",
    "    \n",
    "Il n'empêche que pour la classification de critique de film Gl0ve a de moins résultats que les autres modèles. En fait, les autres modèles ont une représentation spécifique aux critiques de film (pas du langage en générale) et donc classent mieux les critiques de film. Mais si on testait les modèles sur d'autres corpus, Gl0ve devrait mieux classer.\n",
    "</font>"
   ]
  },
  {
   "cell_type": "markdown",
   "metadata": {},
   "source": [
    "- Quelle matrice permet d'obtenir les meilleures représentations via SVD ? (Co-occurences, Tf-Idf, PPMI ..)"
   ]
  },
  {
   "cell_type": "markdown",
   "metadata": {},
   "source": [
    "**avec Reduction de Dimension SVD**"
   ]
  },
  {
   "cell_type": "code",
   "execution_count": 40,
   "metadata": {
    "ExecuteTime": {
     "end_time": "2020-03-10T18:43:45.358002Z",
     "start_time": "2020-03-10T18:43:30.734999Z"
    }
   },
   "outputs": [
    {
     "name": "stdout",
     "output_type": "stream",
     "text": [
      "voisin de 'good' [5 mots] - [pondéré] distance 'cosine' :\n",
      " - Co-occurence : ['bad', 'very', 'funny', 'fine', 'great', 'plot', 'pace', 'shock', 'basically']\n",
      " - PPMI         : ['but', 'bad', 'this', 'very', 'some', 'it', 'movie', 'is', 'a']\n",
      " - TFIDF        : ['moments', 'supposed', 'very', 'it', 'that', 'too', 'movie', 'plausible', 'but']\n"
     ]
    }
   ],
   "source": [
    "print('voisin de \\'good\\' [5 mots] - [pondéré] distance \\'cosine\\' :')\n",
    "SVD_M5dist = svd.fit_transform(M5dist)\n",
    "print(\" - Co-occurence :\", get_neighbors(cosine, vocab_5k, SVD_M5dist, 'good'))\n",
    "SVD_PPMI5dist = svd.fit_transform(PPMI5dist)\n",
    "print(\" - PPMI         :\", get_neighbors(cosine, vocab_5k, SVD_PPMI5dist, 'good'))\n",
    "SVD_TFIDF5dist = svd.fit_transform(TFIDF5dist)\n",
    "print(\" - TFIDF        :\", get_neighbors(cosine, vocab_5k, SVD_TFIDF5dist, 'good'))\n",
    "\n",
    "# W2V et Gl0ve sont deja de dimension 300"
   ]
  },
  {
   "cell_type": "code",
   "execution_count": 41,
   "metadata": {
    "ExecuteTime": {
     "end_time": "2020-03-10T18:44:29.313603Z",
     "start_time": "2020-03-10T18:43:45.360378Z"
    }
   },
   "outputs": [
    {
     "name": "stdout",
     "output_type": "stream",
     "text": [
      "======== Co-occurences =========\n",
      "test score : 0.683\n",
      "Score de classification: 0.690 (std 0.014)\n",
      "\n",
      "========= PPMI =========\n",
      "test score : 0.768\n",
      "Score de classification: 0.790 (std 0.015)\n",
      "\n",
      "======== TF-IDF =========\n",
      "test score : 0.715\n",
      "Score de classification: 0.739 (std 0.021)\n"
     ]
    }
   ],
   "source": [
    "print(\"======== Co-occurences =========\") \n",
    "rep = sentence_representations(texts, vocab_5k, SVD_M5dist)\n",
    "clf = LogisticRegression(solver='lbfgs', max_iter=1000, tol=0.001).fit(rep[::2], y[::2])\n",
    "print('test score :', clf.score(rep[1::2], y[1::2]))\n",
    "scores = cross_val_score(clf, rep, y, cv=5)\n",
    "print('Score de classification: %.3f (std %.3f)' % (np.mean(scores), np.std(scores)))\n",
    "\n",
    "print(\"\\n========= PPMI =========\")\n",
    "rep = sentence_representations(texts, vocab_5k, SVD_PPMI5dist)\n",
    "clf = LogisticRegression(solver='lbfgs', max_iter=10000).fit(rep[::2], y[::2])\n",
    "print('test score :', clf.score(rep[1::2], y[1::2]))\n",
    "scores = cross_val_score(clf, rep, y, cv=5)\n",
    "print('Score de classification: %.3f (std %.3f)' % (np.mean(scores), np.std(scores)))\n",
    "\n",
    "print(\"\\n======== TF-IDF =========\") \n",
    "rep = sentence_representations(texts, vocab_5k, SVD_TFIDF5dist)\n",
    "clf = LogisticRegression(solver='lbfgs', max_iter=10000).fit(rep[::2], y[::2])\n",
    "print('test score :', clf.score(rep[1::2], y[1::2]))\n",
    "scores = cross_val_score(clf, rep, y, cv=5)\n",
    "print('Score de classification: %.3f (std %.3f)' % (np.mean(scores), np.std(scores)))"
   ]
  },
  {
   "cell_type": "markdown",
   "metadata": {},
   "source": [
    "<font color=\"blue\"> \n",
    "Après SVD (300 features), les scores de classification ont diminué mais c'est toujours le modèle PPMI qui obtient un meilleur score (que Co-occurences et TF-IDF). Mais on peut maintenant faire une comparaison plus 'juste' avec les modèle W2V et Glove puisqu'on a maintenant le même nombre de features, et on voit maintenant que W2V et Gl0ve ne s'en sorte pas si mal (ils sont maintenant mieux que TF-IDF)\n",
    "</font>"
   ]
  },
  {
   "cell_type": "markdown",
   "metadata": {},
   "source": [
    "- Word2Vec est difficile à paramétrer. Essayez d'améliorer les représentations en changeant la taille du contexte, le nombre d'itérations ..."
   ]
  },
  {
   "cell_type": "code",
   "execution_count": 45,
   "metadata": {
    "ExecuteTime": {
     "end_time": "2020-03-10T19:24:14.961237Z",
     "start_time": "2020-03-10T19:13:26.947650Z"
    }
   },
   "outputs": [
    {
     "name": "stdout",
     "output_type": "stream",
     "text": [
      "\n",
      "_____ contexte = 20 mots _______\n",
      "\n",
      "test score : 0.734\n",
      "Score de classification: 0.735 (std 0.012)\n",
      "\n",
      "______ sg = 1 (skipgram) ______\n",
      "\n",
      "test score : 0.735\n",
      "Score de classification: 0.757 (std 0.009)\n",
      "\n",
      "_______ negative = 10 _________\n",
      "\n",
      "test score : 0.733\n",
      "Score de classification: 0.734 (std 0.013)\n",
      "\n",
      "_______ ns_exponent = 0.5 _______\n",
      "\n",
      "test score : 0.723\n",
      "Score de classification: 0.731 (std 0.023)\n",
      "\n",
      "______ min_count = 10 _______\n",
      "\n",
      "test score : 0.724\n",
      "Score de classification: 0.744 (std 0.020)\n",
      "\n",
      "_________ size = 1000 __________\n",
      "\n",
      "test score : 0.728\n",
      "Score de classification: 0.731 (std 0.018)\n",
      "\n",
      "______ iter = 50 _______\n",
      "\n",
      "test score : 0.731\n",
      "Score de classification: 0.746 (std 0.016)\n"
     ]
    }
   ],
   "source": [
    "print(\"\\n_____ contexte = 20 mots _______\\n\")\n",
    "rep = sentence_representations(texts, vocab_5k, W2VEmbeddings_20)\n",
    "clf = LogisticRegression(solver='lbfgs', max_iter=10000).fit(rep[::2], y[::2])\n",
    "print('test score :', clf.score(rep[1::2], y[1::2]))\n",
    "scores = cross_val_score(clf, rep, y, cv=5)\n",
    "print('Score de classification: %.3f (std %.3f)' % (np.mean(scores), np.std(scores)))\n",
    "\n",
    "print(\"\\n______ sg = 1 (skipgram) ______\\n\")\n",
    "model_sg = Word2Vec(size=300, window=20, null_word=1, iter=30, sg=1)\n",
    "model_sg.build_vocab_from_freq(word_counts_5k)\n",
    "model_sg.train(preprocess_generator(texts[:]), total_examples=len(texts), epochs=30, report_delay=1)\n",
    "W2VEmbeddings_sg = model_sg.wv.vectors\n",
    "rep = sentence_representations(texts, vocab_5k, W2VEmbeddings_sg)\n",
    "clf = LogisticRegression(solver='lbfgs', max_iter=10000).fit(rep[::2], y[::2])\n",
    "print('test score :', clf.score(rep[1::2], y[1::2]))\n",
    "scores = cross_val_score(clf, rep, y, cv=5)\n",
    "print('Score de classification: %.3f (std %.3f)' % (np.mean(scores), np.std(scores)))\n",
    "\n",
    "print(\"\\n_______ negative = 10 _________\\n\")\n",
    "model_n = Word2Vec(size=300, window=20, null_word=1, iter=30, negative=10)\n",
    "model_n.build_vocab_from_freq(word_counts_5k)\n",
    "model_n.train(preprocess_generator(texts[:]), total_examples=len(texts), epochs=30, report_delay=1)\n",
    "W2VEmbeddings_n = model_n.wv.vectors\n",
    "rep = sentence_representations(texts, vocab_5k, W2VEmbeddings_n)\n",
    "clf = LogisticRegression(solver='lbfgs', max_iter=10000).fit(rep[::2], y[::2])\n",
    "print('test score :', clf.score(rep[1::2], y[1::2]))\n",
    "scores = cross_val_score(clf, rep, y, cv=5)\n",
    "print('Score de classification: %.3f (std %.3f)' % (np.mean(scores), np.std(scores)))\n",
    "\n",
    "print(\"\\n_______ ns_exponent = 0.5 _______\\n\")\n",
    "model_exp = Word2Vec(size=300, window=20, null_word=1, iter=30, ns_exponent=0.5)\n",
    "model_exp.build_vocab_from_freq(word_counts_5k)\n",
    "model_exp.train(preprocess_generator(texts[:]), total_examples=len(texts), epochs=30, report_delay=1)\n",
    "W2VEmbeddings_exp = model_exp.wv.vectors\n",
    "rep = sentence_representations(texts, vocab_5k, W2VEmbeddings_exp)\n",
    "clf = LogisticRegression(solver='lbfgs', max_iter=10000).fit(rep[::2], y[::2])\n",
    "print('test score :', clf.score(rep[1::2], y[1::2]))\n",
    "scores = cross_val_score(clf, rep, y, cv=5)\n",
    "print('Score de classification: %.3f (std %.3f)' % (np.mean(scores), np.std(scores)))\n",
    "\n",
    "print(\"\\n______ min_count = 10 _______\\n\")\n",
    "model_min = Word2Vec(size=300, window=20, null_word=1, iter=30, min_count=10)\n",
    "model_min.build_vocab_from_freq(word_counts_5k)\n",
    "model_min.train(preprocess_generator(texts[:]), total_examples=len(texts), epochs=30, report_delay=1)\n",
    "W2VEmbeddings_min = model_min.wv.vectors\n",
    "rep = sentence_representations(texts, vocab_5k, W2VEmbeddings_min)\n",
    "clf = LogisticRegression(solver='lbfgs', max_iter=10000).fit(rep[::2], y[::2])\n",
    "print('test score :', clf.score(rep[1::2], y[1::2]))\n",
    "scores = cross_val_score(clf, rep, y, cv=5)\n",
    "print('Score de classification: %.3f (std %.3f)' % (np.mean(scores), np.std(scores)))\n",
    "\n",
    "print(\"\\n_________ size = 1000 __________\\n\")\n",
    "model_size = Word2Vec(size=1000, window=20, null_word=1, iter=30)\n",
    "model_size.build_vocab_from_freq(word_counts_5k)\n",
    "model_size.train(preprocess_generator(texts[:]), total_examples=len(texts), epochs=30, report_delay=1)\n",
    "W2VEmbeddings_size = model_size.wv.vectors\n",
    "rep = sentence_representations(texts, vocab_5k, W2VEmbeddings_size)\n",
    "clf = LogisticRegression(solver='lbfgs', max_iter=10000).fit(rep[::2], y[::2])\n",
    "print('test score :', clf.score(rep[1::2], y[1::2]))\n",
    "scores = cross_val_score(clf, rep, y, cv=5)\n",
    "print('Score de classification: %.3f (std %.3f)' % (np.mean(scores), np.std(scores)))\n",
    "\n",
    "print(\"\\n______ iter = 50 _______\\n\")\n",
    "model_min = Word2Vec(size=300, window=20, null_word=1, iter=50)\n",
    "model_min.build_vocab_from_freq(word_counts_5k)\n",
    "model_min.train(preprocess_generator(texts[:]), total_examples=len(texts), epochs=30, report_delay=1)\n",
    "W2VEmbeddings_min = model_min.wv.vectors\n",
    "rep = sentence_representations(texts, vocab_5k, W2VEmbeddings_min)\n",
    "clf = LogisticRegression(solver='lbfgs', max_iter=10000).fit(rep[::2], y[::2])\n",
    "print('test score :', clf.score(rep[1::2], y[1::2]))\n",
    "scores = cross_val_score(clf, rep, y, cv=5)\n",
    "print('Score de classification: %.3f (std %.3f)' % (np.mean(scores), np.std(scores)))"
   ]
  },
  {
   "cell_type": "markdown",
   "metadata": {
    "ExecuteTime": {
     "end_time": "2020-03-10T17:07:23.024128Z",
     "start_time": "2020-03-10T17:07:23.014368Z"
    }
   },
   "source": [
    "<font color=\"blue\"> \n",
    "En testant d'autres paramètres, j'obtiens peu de changement. Le mode skipgram semble donner des résultats légèrement mieux que le mode CBOW (0.760 contre 0.756)\n",
    "</font>"
   ]
  }
 ],
 "metadata": {
  "kernelspec": {
   "display_name": "Python 3",
   "language": "python",
   "name": "python3"
  },
  "language_info": {
   "codemirror_mode": {
    "name": "ipython",
    "version": 3
   },
   "file_extension": ".py",
   "mimetype": "text/x-python",
   "name": "python",
   "nbconvert_exporter": "python",
   "pygments_lexer": "ipython3",
   "version": "3.7.4"
  },
  "toc": {
   "base_numbering": 1,
   "nav_menu": {},
   "number_sections": true,
   "sideBar": true,
   "skip_h1_title": false,
   "title_cell": "Table of Contents",
   "title_sidebar": "Contents",
   "toc_cell": false,
   "toc_position": {},
   "toc_section_display": true,
   "toc_window_display": true
  },
  "varInspector": {
   "cols": {
    "lenName": 16,
    "lenType": 16,
    "lenVar": 40
   },
   "kernels_config": {
    "python": {
     "delete_cmd_postfix": "",
     "delete_cmd_prefix": "del ",
     "library": "var_list.py",
     "varRefreshCmd": "print(var_dic_list())"
    },
    "r": {
     "delete_cmd_postfix": ") ",
     "delete_cmd_prefix": "rm(",
     "library": "var_list.r",
     "varRefreshCmd": "cat(var_dic_list()) "
    }
   },
   "types_to_exclude": [
    "module",
    "function",
    "builtin_function_or_method",
    "instance",
    "_Feature"
   ],
   "window_display": false
  }
 },
 "nbformat": 4,
 "nbformat_minor": 2
}
